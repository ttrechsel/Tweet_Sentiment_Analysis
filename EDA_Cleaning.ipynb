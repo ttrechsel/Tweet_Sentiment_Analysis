{
 "cells": [
  {
   "cell_type": "markdown",
   "id": "c0438079-7f2f-4649-ac7a-3a52c253bd41",
   "metadata": {},
   "source": [
    "# Data Cleaning & EDA"
   ]
  },
  {
   "cell_type": "markdown",
   "id": "5a5c1ed7-eaa3-4396-900c-37516c7cf28d",
   "metadata": {},
   "source": [
    "Load up 4 different datasets, clean, explore.\n",
    "\n",
    "1. Airline Tweet Sentiments dataset | https://data.world/crowdflower/airline-twitter-sentiment\n",
    "\n",
    "2. Apple Tweet Sentiment dataset | https://data.world/crowdflower/apple-twitter-sentiment\n",
    "\n",
    "3. Sentiment 140 dataset | https://www.kaggle.com/datasets/kazanova/sentiment140/\n",
    "\n",
    "4. Tweet 4 Sentiment Analysis dataset | http://www.t4sa.it"
   ]
  },
  {
   "cell_type": "markdown",
   "id": "6ceeaca2-21e6-4818-930c-c8009ba79035",
   "metadata": {},
   "source": [
    "## Imports"
   ]
  },
  {
   "cell_type": "code",
   "execution_count": 2,
   "id": "a24a5808-f653-4733-a381-62cc8607ec71",
   "metadata": {
    "tags": []
   },
   "outputs": [],
   "source": [
    "import boto3\n",
    "import pandas as pd\n",
    "\n",
    "# To ignore SetOnCopyWarning\n",
    "pd.options.mode.chained_assignment = None\n",
    "\n",
    "import matplotlib.pyplot as plt\n",
    "import seaborn as sns"
   ]
  },
  {
   "cell_type": "markdown",
   "id": "ca548139-3523-4352-8385-399152f1ef8b",
   "metadata": {},
   "source": [
    "## Airline Tweet Data"
   ]
  },
  {
   "cell_type": "code",
   "execution_count": 3,
   "id": "865de501-8f86-4e45-ae31-5b1e8a5984a5",
   "metadata": {
    "tags": []
   },
   "outputs": [
    {
     "data": {
      "text/html": [
       "<div>\n",
       "<style scoped>\n",
       "    .dataframe tbody tr th:only-of-type {\n",
       "        vertical-align: middle;\n",
       "    }\n",
       "\n",
       "    .dataframe tbody tr th {\n",
       "        vertical-align: top;\n",
       "    }\n",
       "\n",
       "    .dataframe thead th {\n",
       "        text-align: right;\n",
       "    }\n",
       "</style>\n",
       "<table border=\"1\" class=\"dataframe\">\n",
       "  <thead>\n",
       "    <tr style=\"text-align: right;\">\n",
       "      <th></th>\n",
       "      <th>_unit_id</th>\n",
       "      <th>_golden</th>\n",
       "      <th>_unit_state</th>\n",
       "      <th>_trusted_judgments</th>\n",
       "      <th>_last_judgment_at</th>\n",
       "      <th>airline_sentiment</th>\n",
       "      <th>airline_sentiment:confidence</th>\n",
       "      <th>negativereason</th>\n",
       "      <th>negativereason:confidence</th>\n",
       "      <th>airline</th>\n",
       "      <th>airline_sentiment_gold</th>\n",
       "      <th>name</th>\n",
       "      <th>negativereason_gold</th>\n",
       "      <th>retweet_count</th>\n",
       "      <th>text</th>\n",
       "      <th>tweet_coord</th>\n",
       "      <th>tweet_created</th>\n",
       "      <th>tweet_id</th>\n",
       "      <th>tweet_location</th>\n",
       "      <th>user_timezone</th>\n",
       "    </tr>\n",
       "  </thead>\n",
       "  <tbody>\n",
       "    <tr>\n",
       "      <th>0</th>\n",
       "      <td>681448150</td>\n",
       "      <td>False</td>\n",
       "      <td>finalized</td>\n",
       "      <td>3</td>\n",
       "      <td>2/25/15 5:24</td>\n",
       "      <td>neutral</td>\n",
       "      <td>1.0000</td>\n",
       "      <td>NaN</td>\n",
       "      <td>NaN</td>\n",
       "      <td>Virgin America</td>\n",
       "      <td>NaN</td>\n",
       "      <td>cairdin</td>\n",
       "      <td>NaN</td>\n",
       "      <td>0</td>\n",
       "      <td>@VirginAmerica What @dhepburn said.</td>\n",
       "      <td>NaN</td>\n",
       "      <td>2/24/15 11:35</td>\n",
       "      <td>5.703060e+17</td>\n",
       "      <td>NaN</td>\n",
       "      <td>Eastern Time (US &amp; Canada)</td>\n",
       "    </tr>\n",
       "    <tr>\n",
       "      <th>1</th>\n",
       "      <td>681448153</td>\n",
       "      <td>False</td>\n",
       "      <td>finalized</td>\n",
       "      <td>3</td>\n",
       "      <td>2/25/15 1:53</td>\n",
       "      <td>positive</td>\n",
       "      <td>0.3486</td>\n",
       "      <td>NaN</td>\n",
       "      <td>0.0000</td>\n",
       "      <td>Virgin America</td>\n",
       "      <td>NaN</td>\n",
       "      <td>jnardino</td>\n",
       "      <td>NaN</td>\n",
       "      <td>0</td>\n",
       "      <td>@VirginAmerica plus you've added commercials t...</td>\n",
       "      <td>NaN</td>\n",
       "      <td>2/24/15 11:15</td>\n",
       "      <td>5.703010e+17</td>\n",
       "      <td>NaN</td>\n",
       "      <td>Pacific Time (US &amp; Canada)</td>\n",
       "    </tr>\n",
       "    <tr>\n",
       "      <th>2</th>\n",
       "      <td>681448156</td>\n",
       "      <td>False</td>\n",
       "      <td>finalized</td>\n",
       "      <td>3</td>\n",
       "      <td>2/25/15 10:01</td>\n",
       "      <td>neutral</td>\n",
       "      <td>0.6837</td>\n",
       "      <td>NaN</td>\n",
       "      <td>NaN</td>\n",
       "      <td>Virgin America</td>\n",
       "      <td>NaN</td>\n",
       "      <td>yvonnalynn</td>\n",
       "      <td>NaN</td>\n",
       "      <td>0</td>\n",
       "      <td>@VirginAmerica I didn't today... Must mean I n...</td>\n",
       "      <td>NaN</td>\n",
       "      <td>2/24/15 11:15</td>\n",
       "      <td>5.703010e+17</td>\n",
       "      <td>Lets Play</td>\n",
       "      <td>Central Time (US &amp; Canada)</td>\n",
       "    </tr>\n",
       "    <tr>\n",
       "      <th>3</th>\n",
       "      <td>681448158</td>\n",
       "      <td>False</td>\n",
       "      <td>finalized</td>\n",
       "      <td>3</td>\n",
       "      <td>2/25/15 3:05</td>\n",
       "      <td>negative</td>\n",
       "      <td>1.0000</td>\n",
       "      <td>Bad Flight</td>\n",
       "      <td>0.7033</td>\n",
       "      <td>Virgin America</td>\n",
       "      <td>NaN</td>\n",
       "      <td>jnardino</td>\n",
       "      <td>NaN</td>\n",
       "      <td>0</td>\n",
       "      <td>@VirginAmerica it's really aggressive to blast...</td>\n",
       "      <td>NaN</td>\n",
       "      <td>2/24/15 11:15</td>\n",
       "      <td>5.703010e+17</td>\n",
       "      <td>NaN</td>\n",
       "      <td>Pacific Time (US &amp; Canada)</td>\n",
       "    </tr>\n",
       "    <tr>\n",
       "      <th>4</th>\n",
       "      <td>681448159</td>\n",
       "      <td>False</td>\n",
       "      <td>finalized</td>\n",
       "      <td>3</td>\n",
       "      <td>2/25/15 5:50</td>\n",
       "      <td>negative</td>\n",
       "      <td>1.0000</td>\n",
       "      <td>Can't Tell</td>\n",
       "      <td>1.0000</td>\n",
       "      <td>Virgin America</td>\n",
       "      <td>NaN</td>\n",
       "      <td>jnardino</td>\n",
       "      <td>NaN</td>\n",
       "      <td>0</td>\n",
       "      <td>@VirginAmerica and it's a really big bad thing...</td>\n",
       "      <td>NaN</td>\n",
       "      <td>2/24/15 11:14</td>\n",
       "      <td>5.703010e+17</td>\n",
       "      <td>NaN</td>\n",
       "      <td>Pacific Time (US &amp; Canada)</td>\n",
       "    </tr>\n",
       "  </tbody>\n",
       "</table>\n",
       "</div>"
      ],
      "text/plain": [
       "    _unit_id  _golden _unit_state  _trusted_judgments _last_judgment_at  \\\n",
       "0  681448150    False   finalized                   3      2/25/15 5:24   \n",
       "1  681448153    False   finalized                   3      2/25/15 1:53   \n",
       "2  681448156    False   finalized                   3     2/25/15 10:01   \n",
       "3  681448158    False   finalized                   3      2/25/15 3:05   \n",
       "4  681448159    False   finalized                   3      2/25/15 5:50   \n",
       "\n",
       "  airline_sentiment  airline_sentiment:confidence negativereason  \\\n",
       "0           neutral                        1.0000            NaN   \n",
       "1          positive                        0.3486            NaN   \n",
       "2           neutral                        0.6837            NaN   \n",
       "3          negative                        1.0000     Bad Flight   \n",
       "4          negative                        1.0000     Can't Tell   \n",
       "\n",
       "   negativereason:confidence         airline airline_sentiment_gold  \\\n",
       "0                        NaN  Virgin America                    NaN   \n",
       "1                     0.0000  Virgin America                    NaN   \n",
       "2                        NaN  Virgin America                    NaN   \n",
       "3                     0.7033  Virgin America                    NaN   \n",
       "4                     1.0000  Virgin America                    NaN   \n",
       "\n",
       "         name negativereason_gold  retweet_count  \\\n",
       "0     cairdin                 NaN              0   \n",
       "1    jnardino                 NaN              0   \n",
       "2  yvonnalynn                 NaN              0   \n",
       "3    jnardino                 NaN              0   \n",
       "4    jnardino                 NaN              0   \n",
       "\n",
       "                                                text tweet_coord  \\\n",
       "0                @VirginAmerica What @dhepburn said.         NaN   \n",
       "1  @VirginAmerica plus you've added commercials t...         NaN   \n",
       "2  @VirginAmerica I didn't today... Must mean I n...         NaN   \n",
       "3  @VirginAmerica it's really aggressive to blast...         NaN   \n",
       "4  @VirginAmerica and it's a really big bad thing...         NaN   \n",
       "\n",
       "   tweet_created      tweet_id tweet_location               user_timezone  \n",
       "0  2/24/15 11:35  5.703060e+17            NaN  Eastern Time (US & Canada)  \n",
       "1  2/24/15 11:15  5.703010e+17            NaN  Pacific Time (US & Canada)  \n",
       "2  2/24/15 11:15  5.703010e+17      Lets Play  Central Time (US & Canada)  \n",
       "3  2/24/15 11:15  5.703010e+17            NaN  Pacific Time (US & Canada)  \n",
       "4  2/24/15 11:14  5.703010e+17            NaN  Pacific Time (US & Canada)  "
      ]
     },
     "execution_count": 3,
     "metadata": {},
     "output_type": "execute_result"
    }
   ],
   "source": [
    "# AWS code to load data from s3\n",
    "s3 = boto3.client('s3')\n",
    "obj = s3.get_object(Bucket = 'rawdatatweets',Key = 'Data/Airline-Sentiment-2-w-AA.csv')\n",
    "\n",
    "# Load up airline data, ignore encoding errors\n",
    "airline_df = pd.read_csv(obj['Body'], encoding='utf-8', encoding_errors='ignore')\n",
    "\n",
    "airline_df.head()"
   ]
  },
  {
   "cell_type": "code",
   "execution_count": 4,
   "id": "5ca2206a-e466-43c3-b96d-81a566ddf4ae",
   "metadata": {
    "tags": []
   },
   "outputs": [
    {
     "data": {
      "text/plain": [
       "False    14640\n",
       "dtype: int64"
      ]
     },
     "execution_count": 4,
     "metadata": {},
     "output_type": "execute_result"
    }
   ],
   "source": [
    "# Check for duplicates\n",
    "airline_df.duplicated().value_counts()"
   ]
  },
  {
   "cell_type": "markdown",
   "id": "69316ec5-e1fd-4445-92fd-32e008439999",
   "metadata": {},
   "source": [
    "No duplicates! Let's drop the info we don't need. We'll keep sentiment confidence for now in case we want to filter using that metric later."
   ]
  },
  {
   "cell_type": "code",
   "execution_count": 5,
   "id": "5998ac98-0a1b-45ef-96a2-8a954408a5ca",
   "metadata": {
    "tags": []
   },
   "outputs": [
    {
     "data": {
      "text/html": [
       "<div>\n",
       "<style scoped>\n",
       "    .dataframe tbody tr th:only-of-type {\n",
       "        vertical-align: middle;\n",
       "    }\n",
       "\n",
       "    .dataframe tbody tr th {\n",
       "        vertical-align: top;\n",
       "    }\n",
       "\n",
       "    .dataframe thead th {\n",
       "        text-align: right;\n",
       "    }\n",
       "</style>\n",
       "<table border=\"1\" class=\"dataframe\">\n",
       "  <thead>\n",
       "    <tr style=\"text-align: right;\">\n",
       "      <th></th>\n",
       "      <th>sentiment</th>\n",
       "      <th>confidence</th>\n",
       "      <th>tweet</th>\n",
       "    </tr>\n",
       "  </thead>\n",
       "  <tbody>\n",
       "    <tr>\n",
       "      <th>0</th>\n",
       "      <td>neutral</td>\n",
       "      <td>1.0000</td>\n",
       "      <td>@VirginAmerica What @dhepburn said.</td>\n",
       "    </tr>\n",
       "    <tr>\n",
       "      <th>1</th>\n",
       "      <td>positive</td>\n",
       "      <td>0.3486</td>\n",
       "      <td>@VirginAmerica plus you've added commercials t...</td>\n",
       "    </tr>\n",
       "    <tr>\n",
       "      <th>2</th>\n",
       "      <td>neutral</td>\n",
       "      <td>0.6837</td>\n",
       "      <td>@VirginAmerica I didn't today... Must mean I n...</td>\n",
       "    </tr>\n",
       "  </tbody>\n",
       "</table>\n",
       "</div>"
      ],
      "text/plain": [
       "  sentiment  confidence                                              tweet\n",
       "0   neutral      1.0000                @VirginAmerica What @dhepburn said.\n",
       "1  positive      0.3486  @VirginAmerica plus you've added commercials t...\n",
       "2   neutral      0.6837  @VirginAmerica I didn't today... Must mean I n..."
      ]
     },
     "execution_count": 5,
     "metadata": {},
     "output_type": "execute_result"
    }
   ],
   "source": [
    "# Drop all cols except sentiment, confidence and tweet\n",
    "airline_df = airline_df[['airline_sentiment', 'airline_sentiment:confidence', 'text']]\n",
    "\n",
    "# Rename cols to 'sentiment', 'confidence' and 'tweet'\n",
    "airline_df.rename(columns={'airline_sentiment':'sentiment', 'airline_sentiment:confidence':'confidence', \n",
    "                           'text':'tweet'}, inplace=True)\n",
    "\n",
    "# Inspect\n",
    "airline_df.head(3)"
   ]
  },
  {
   "cell_type": "code",
   "execution_count": 6,
   "id": "d64f5fb2-6bf3-4c2c-99c3-4af535c025fd",
   "metadata": {
    "tags": []
   },
   "outputs": [
    {
     "data": {
      "text/plain": [
       "negative    9178\n",
       "neutral     3099\n",
       "positive    2363\n",
       "Name: sentiment, dtype: int64"
      ]
     },
     "execution_count": 6,
     "metadata": {},
     "output_type": "execute_result"
    }
   ],
   "source": [
    "airline_df.sentiment.value_counts(dropna=False)"
   ]
  },
  {
   "cell_type": "code",
   "execution_count": 7,
   "id": "f79db7f4-7fc7-4363-86d5-d0e108a826e4",
   "metadata": {
    "tags": []
   },
   "outputs": [
    {
     "data": {
      "image/png": "[encoded data removed]",
      "text/plain": [
       "<Figure size 640x480 with 1 Axes>"
      ]
     },
     "metadata": {},
     "output_type": "display_data"
    }
   ],
   "source": [
    "# Bar plot\n",
    "sns.barplot(x = airline_df.sentiment.value_counts().index, \n",
    "             y = airline_df.sentiment.value_counts().values);"
   ]
  },
  {
   "cell_type": "markdown",
   "id": "9d6fa6b8-6ae2-4f95-aeeb-aec70b824b1a",
   "metadata": {},
   "source": [
    "Okay, so this one is pretty imbalanced. We will look later at the balance of the entire dataset and may want to come back to deal with imbalances in each individual dataset prior to concatenation.\n",
    "\n",
    "Let's also decide how we want to encode our classes and go ahead with that.\n",
    " - Negative: 0\n",
    " - Neutral: 1\n",
    " - Positive: 2"
   ]
  },
  {
   "cell_type": "code",
   "execution_count": 8,
   "id": "178c197d-0281-4fcf-ae61-dc5a2df36615",
   "metadata": {
    "tags": []
   },
   "outputs": [
    {
     "name": "stdout",
     "output_type": "stream",
     "text": [
      "<class 'pandas.core.frame.DataFrame'>\n",
      "RangeIndex: 14640 entries, 0 to 14639\n",
      "Data columns (total 3 columns):\n",
      " #   Column      Non-Null Count  Dtype  \n",
      "---  ------      --------------  -----  \n",
      " 0   sentiment   14640 non-null  int64  \n",
      " 1   confidence  14640 non-null  float64\n",
      " 2   tweet       14640 non-null  object \n",
      "dtypes: float64(1), int64(1), object(1)\n",
      "memory usage: 343.2+ KB\n"
     ]
    }
   ],
   "source": [
    "# Replace sentiment strings with integer labels\n",
    "airline_df.sentiment.replace(['negative', 'neutral', 'positive'],[0, 1, 2], inplace=True)\n",
    "\n",
    "# Recast sentiment as integer\n",
    "airline_df.sentiment = airline_df.sentiment.astype('int')\n",
    "\n",
    "# Inspect\n",
    "airline_df.info()"
   ]
  },
  {
   "cell_type": "code",
   "execution_count": 9,
   "id": "9dafe68c-3aef-4b5a-a586-20d410923891",
   "metadata": {
    "tags": []
   },
   "outputs": [
    {
     "data": {
      "text/html": [
       "<div>\n",
       "<style scoped>\n",
       "    .dataframe tbody tr th:only-of-type {\n",
       "        vertical-align: middle;\n",
       "    }\n",
       "\n",
       "    .dataframe tbody tr th {\n",
       "        vertical-align: top;\n",
       "    }\n",
       "\n",
       "    .dataframe thead th {\n",
       "        text-align: right;\n",
       "    }\n",
       "</style>\n",
       "<table border=\"1\" class=\"dataframe\">\n",
       "  <thead>\n",
       "    <tr style=\"text-align: right;\">\n",
       "      <th></th>\n",
       "      <th>sentiment</th>\n",
       "      <th>confidence</th>\n",
       "      <th>tweet</th>\n",
       "    </tr>\n",
       "  </thead>\n",
       "  <tbody>\n",
       "    <tr>\n",
       "      <th>0</th>\n",
       "      <td>1</td>\n",
       "      <td>1.0000</td>\n",
       "      <td>@VirginAmerica What @dhepburn said.</td>\n",
       "    </tr>\n",
       "    <tr>\n",
       "      <th>1</th>\n",
       "      <td>2</td>\n",
       "      <td>0.3486</td>\n",
       "      <td>@VirginAmerica plus you've added commercials t...</td>\n",
       "    </tr>\n",
       "    <tr>\n",
       "      <th>2</th>\n",
       "      <td>1</td>\n",
       "      <td>0.6837</td>\n",
       "      <td>@VirginAmerica I didn't today... Must mean I n...</td>\n",
       "    </tr>\n",
       "    <tr>\n",
       "      <th>3</th>\n",
       "      <td>0</td>\n",
       "      <td>1.0000</td>\n",
       "      <td>@VirginAmerica it's really aggressive to blast...</td>\n",
       "    </tr>\n",
       "    <tr>\n",
       "      <th>4</th>\n",
       "      <td>0</td>\n",
       "      <td>1.0000</td>\n",
       "      <td>@VirginAmerica and it's a really big bad thing...</td>\n",
       "    </tr>\n",
       "  </tbody>\n",
       "</table>\n",
       "</div>"
      ],
      "text/plain": [
       "   sentiment  confidence                                              tweet\n",
       "0          1      1.0000                @VirginAmerica What @dhepburn said.\n",
       "1          2      0.3486  @VirginAmerica plus you've added commercials t...\n",
       "2          1      0.6837  @VirginAmerica I didn't today... Must mean I n...\n",
       "3          0      1.0000  @VirginAmerica it's really aggressive to blast...\n",
       "4          0      1.0000  @VirginAmerica and it's a really big bad thing..."
      ]
     },
     "execution_count": 9,
     "metadata": {},
     "output_type": "execute_result"
    }
   ],
   "source": [
    "airline_df.head()"
   ]
  },
  {
   "cell_type": "markdown",
   "id": "a0077c26-aff1-4f95-bba4-b952e072d693",
   "metadata": {},
   "source": [
    "Let's do the next dataset now."
   ]
  },
  {
   "cell_type": "markdown",
   "id": "3a09e7f4-b25b-4520-8441-fe7fc93207b9",
   "metadata": {},
   "source": [
    "## Apple Tweet Data"
   ]
  },
  {
   "cell_type": "code",
   "execution_count": 10,
   "id": "c9684035-ca92-49fc-a849-dd50d3acb38f",
   "metadata": {
    "tags": []
   },
   "outputs": [
    {
     "data": {
      "text/html": [
       "<div>\n",
       "<style scoped>\n",
       "    .dataframe tbody tr th:only-of-type {\n",
       "        vertical-align: middle;\n",
       "    }\n",
       "\n",
       "    .dataframe tbody tr th {\n",
       "        vertical-align: top;\n",
       "    }\n",
       "\n",
       "    .dataframe thead th {\n",
       "        text-align: right;\n",
       "    }\n",
       "</style>\n",
       "<table border=\"1\" class=\"dataframe\">\n",
       "  <thead>\n",
       "    <tr style=\"text-align: right;\">\n",
       "      <th></th>\n",
       "      <th>_unit_id</th>\n",
       "      <th>_golden</th>\n",
       "      <th>_unit_state</th>\n",
       "      <th>_trusted_judgments</th>\n",
       "      <th>_last_judgment_at</th>\n",
       "      <th>sentiment</th>\n",
       "      <th>sentiment:confidence</th>\n",
       "      <th>date</th>\n",
       "      <th>id</th>\n",
       "      <th>query</th>\n",
       "      <th>sentiment_gold</th>\n",
       "      <th>text</th>\n",
       "    </tr>\n",
       "  </thead>\n",
       "  <tbody>\n",
       "    <tr>\n",
       "      <th>0</th>\n",
       "      <td>623495513</td>\n",
       "      <td>True</td>\n",
       "      <td>golden</td>\n",
       "      <td>10</td>\n",
       "      <td>NaN</td>\n",
       "      <td>3</td>\n",
       "      <td>0.6264</td>\n",
       "      <td>Mon Dec 01 19:30:03 +0000 2014</td>\n",
       "      <td>5.400000e+17</td>\n",
       "      <td>#AAPL OR @Apple</td>\n",
       "      <td>3\\nnot_relevant</td>\n",
       "      <td>#AAPL:The 10 best Steve Jobs emails ever...htt...</td>\n",
       "    </tr>\n",
       "    <tr>\n",
       "      <th>1</th>\n",
       "      <td>623495514</td>\n",
       "      <td>True</td>\n",
       "      <td>golden</td>\n",
       "      <td>12</td>\n",
       "      <td>NaN</td>\n",
       "      <td>3</td>\n",
       "      <td>0.8129</td>\n",
       "      <td>Mon Dec 01 19:43:51 +0000 2014</td>\n",
       "      <td>5.400000e+17</td>\n",
       "      <td>#AAPL OR @Apple</td>\n",
       "      <td>3\\n1</td>\n",
       "      <td>RT @JPDesloges: Why AAPL Stock Had a Mini-Flas...</td>\n",
       "    </tr>\n",
       "    <tr>\n",
       "      <th>2</th>\n",
       "      <td>623495515</td>\n",
       "      <td>True</td>\n",
       "      <td>golden</td>\n",
       "      <td>10</td>\n",
       "      <td>NaN</td>\n",
       "      <td>3</td>\n",
       "      <td>1.0000</td>\n",
       "      <td>Mon Dec 01 19:50:28 +0000 2014</td>\n",
       "      <td>5.400000e+17</td>\n",
       "      <td>#AAPL OR @Apple</td>\n",
       "      <td>3</td>\n",
       "      <td>My cat only chews @apple cords. Such an #Apple...</td>\n",
       "    </tr>\n",
       "    <tr>\n",
       "      <th>3</th>\n",
       "      <td>623495516</td>\n",
       "      <td>True</td>\n",
       "      <td>golden</td>\n",
       "      <td>17</td>\n",
       "      <td>NaN</td>\n",
       "      <td>3</td>\n",
       "      <td>0.5848</td>\n",
       "      <td>Mon Dec 01 20:26:34 +0000 2014</td>\n",
       "      <td>5.400000e+17</td>\n",
       "      <td>#AAPL OR @Apple</td>\n",
       "      <td>3\\n1</td>\n",
       "      <td>I agree with @jimcramer that the #IndividualIn...</td>\n",
       "    </tr>\n",
       "    <tr>\n",
       "      <th>4</th>\n",
       "      <td>623495517</td>\n",
       "      <td>False</td>\n",
       "      <td>finalized</td>\n",
       "      <td>3</td>\n",
       "      <td>12/12/14 12:14</td>\n",
       "      <td>3</td>\n",
       "      <td>0.6474</td>\n",
       "      <td>Mon Dec 01 20:29:33 +0000 2014</td>\n",
       "      <td>5.400000e+17</td>\n",
       "      <td>#AAPL OR @Apple</td>\n",
       "      <td>NaN</td>\n",
       "      <td>Nobody expects the Spanish Inquisition #AAPL</td>\n",
       "    </tr>\n",
       "  </tbody>\n",
       "</table>\n",
       "</div>"
      ],
      "text/plain": [
       "    _unit_id  _golden _unit_state  _trusted_judgments _last_judgment_at  \\\n",
       "0  623495513     True      golden                  10               NaN   \n",
       "1  623495514     True      golden                  12               NaN   \n",
       "2  623495515     True      golden                  10               NaN   \n",
       "3  623495516     True      golden                  17               NaN   \n",
       "4  623495517    False   finalized                   3    12/12/14 12:14   \n",
       "\n",
       "  sentiment  sentiment:confidence                            date  \\\n",
       "0         3                0.6264  Mon Dec 01 19:30:03 +0000 2014   \n",
       "1         3                0.8129  Mon Dec 01 19:43:51 +0000 2014   \n",
       "2         3                1.0000  Mon Dec 01 19:50:28 +0000 2014   \n",
       "3         3                0.5848  Mon Dec 01 20:26:34 +0000 2014   \n",
       "4         3                0.6474  Mon Dec 01 20:29:33 +0000 2014   \n",
       "\n",
       "             id            query   sentiment_gold  \\\n",
       "0  5.400000e+17  #AAPL OR @Apple  3\\nnot_relevant   \n",
       "1  5.400000e+17  #AAPL OR @Apple             3\\n1   \n",
       "2  5.400000e+17  #AAPL OR @Apple                3   \n",
       "3  5.400000e+17  #AAPL OR @Apple             3\\n1   \n",
       "4  5.400000e+17  #AAPL OR @Apple              NaN   \n",
       "\n",
       "                                                text  \n",
       "0  #AAPL:The 10 best Steve Jobs emails ever...htt...  \n",
       "1  RT @JPDesloges: Why AAPL Stock Had a Mini-Flas...  \n",
       "2  My cat only chews @apple cords. Such an #Apple...  \n",
       "3  I agree with @jimcramer that the #IndividualIn...  \n",
       "4       Nobody expects the Spanish Inquisition #AAPL  "
      ]
     },
     "execution_count": 10,
     "metadata": {},
     "output_type": "execute_result"
    }
   ],
   "source": [
    "# AWS code to load data from s3\n",
    "obj = s3.get_object(Bucket = 'rawdatatweets',Key = 'Data/Apple-Twitter-Sentiment-DFE.csv')\n",
    "\n",
    "# Load up data, ignore encoding errors\n",
    "apple_df = pd.read_csv(obj['Body'], encoding='utf-8', encoding_errors='ignore')\n",
    "\n",
    "apple_df.head()"
   ]
  },
  {
   "cell_type": "code",
   "execution_count": 11,
   "id": "d8553435-8d15-4577-8d46-d0ed4c3f59fe",
   "metadata": {
    "tags": []
   },
   "outputs": [
    {
     "data": {
      "text/plain": [
       "False    3886\n",
       "dtype: int64"
      ]
     },
     "execution_count": 11,
     "metadata": {},
     "output_type": "execute_result"
    }
   ],
   "source": [
    "# Check for duplicates\n",
    "apple_df.duplicated().value_counts()"
   ]
  },
  {
   "cell_type": "code",
   "execution_count": 12,
   "id": "8e5637a7-2ab7-437f-86c7-49f4501fb052",
   "metadata": {
    "tags": []
   },
   "outputs": [
    {
     "data": {
      "text/html": [
       "<div>\n",
       "<style scoped>\n",
       "    .dataframe tbody tr th:only-of-type {\n",
       "        vertical-align: middle;\n",
       "    }\n",
       "\n",
       "    .dataframe tbody tr th {\n",
       "        vertical-align: top;\n",
       "    }\n",
       "\n",
       "    .dataframe thead th {\n",
       "        text-align: right;\n",
       "    }\n",
       "</style>\n",
       "<table border=\"1\" class=\"dataframe\">\n",
       "  <thead>\n",
       "    <tr style=\"text-align: right;\">\n",
       "      <th></th>\n",
       "      <th>sentiment</th>\n",
       "      <th>confidence</th>\n",
       "      <th>tweet</th>\n",
       "    </tr>\n",
       "  </thead>\n",
       "  <tbody>\n",
       "    <tr>\n",
       "      <th>0</th>\n",
       "      <td>3</td>\n",
       "      <td>0.6264</td>\n",
       "      <td>#AAPL:The 10 best Steve Jobs emails ever...htt...</td>\n",
       "    </tr>\n",
       "    <tr>\n",
       "      <th>1</th>\n",
       "      <td>3</td>\n",
       "      <td>0.8129</td>\n",
       "      <td>RT @JPDesloges: Why AAPL Stock Had a Mini-Flas...</td>\n",
       "    </tr>\n",
       "    <tr>\n",
       "      <th>2</th>\n",
       "      <td>3</td>\n",
       "      <td>1.0000</td>\n",
       "      <td>My cat only chews @apple cords. Such an #Apple...</td>\n",
       "    </tr>\n",
       "  </tbody>\n",
       "</table>\n",
       "</div>"
      ],
      "text/plain": [
       "  sentiment  confidence                                              tweet\n",
       "0         3      0.6264  #AAPL:The 10 best Steve Jobs emails ever...htt...\n",
       "1         3      0.8129  RT @JPDesloges: Why AAPL Stock Had a Mini-Flas...\n",
       "2         3      1.0000  My cat only chews @apple cords. Such an #Apple..."
      ]
     },
     "execution_count": 12,
     "metadata": {},
     "output_type": "execute_result"
    }
   ],
   "source": [
    "# Drop all cols except sentiment, confidence and tweet\n",
    "apple_df = apple_df[['sentiment', 'sentiment:confidence', 'text']]\n",
    "\n",
    "# Rename cols to 'confidence' and 'tweet'\n",
    "apple_df.rename(columns={'sentiment:confidence':'confidence', 'text':'tweet'}, inplace=True)\n",
    "\n",
    "# Inspect\n",
    "apple_df.head(3)"
   ]
  },
  {
   "cell_type": "code",
   "execution_count": 13,
   "id": "b36da4ef-30c4-4387-b27e-e4d21345fa51",
   "metadata": {
    "tags": []
   },
   "outputs": [
    {
     "data": {
      "text/plain": [
       "3               2162\n",
       "1               1219\n",
       "5                423\n",
       "not_relevant      82\n",
       "Name: sentiment, dtype: int64"
      ]
     },
     "execution_count": 13,
     "metadata": {},
     "output_type": "execute_result"
    }
   ],
   "source": [
    "apple_df.sentiment.value_counts(dropna=False)"
   ]
  },
  {
   "cell_type": "markdown",
   "id": "1c8aec4a-d45b-4942-93ad-8d10c7101cfa",
   "metadata": {},
   "source": [
    "After scouring the data source, we could not find any key that pairs the integers with labels. We will have to dig ourselves to find out what the labels on the tweets are."
   ]
  },
  {
   "cell_type": "code",
   "execution_count": 14,
   "id": "cd49eef5-8a21-41aa-a86c-1358a577866f",
   "metadata": {
    "tags": []
   },
   "outputs": [
    {
     "data": {
      "text/html": [
       "<div>\n",
       "<style scoped>\n",
       "    .dataframe tbody tr th:only-of-type {\n",
       "        vertical-align: middle;\n",
       "    }\n",
       "\n",
       "    .dataframe tbody tr th {\n",
       "        vertical-align: top;\n",
       "    }\n",
       "\n",
       "    .dataframe thead th {\n",
       "        text-align: right;\n",
       "    }\n",
       "</style>\n",
       "<table border=\"1\" class=\"dataframe\">\n",
       "  <thead>\n",
       "    <tr style=\"text-align: right;\">\n",
       "      <th></th>\n",
       "      <th>sentiment</th>\n",
       "      <th>confidence</th>\n",
       "      <th>tweet</th>\n",
       "    </tr>\n",
       "  </thead>\n",
       "  <tbody>\n",
       "    <tr>\n",
       "      <th>10</th>\n",
       "      <td>1</td>\n",
       "      <td>1.0000</td>\n",
       "      <td>WTF MY BATTERY WAS 31% ONE SECOND AGO AND NOW IS 29% WTF IS THIS @apple</td>\n",
       "    </tr>\n",
       "    <tr>\n",
       "      <th>14</th>\n",
       "      <td>1</td>\n",
       "      <td>1.0000</td>\n",
       "      <td>@apple Contact sync between Yosemite and iOS8 is seriously screwed up. It used to be much more stable in the past. #icloud #isync</td>\n",
       "    </tr>\n",
       "    <tr>\n",
       "      <th>16</th>\n",
       "      <td>1</td>\n",
       "      <td>0.9399</td>\n",
       "      <td>WARNING IF YOU BUY AN IPHONE 5S UNLOCKED FROM @APPLE IPHONE YOU CANNOT USE IT ON VERIZON NETWORK</td>\n",
       "    </tr>\n",
       "    <tr>\n",
       "      <th>23</th>\n",
       "      <td>1</td>\n",
       "      <td>1.0000</td>\n",
       "      <td>@Apple, For the love of GAWD, CENTER the '1'on the damn calendar app. You fixed it once, its back, off center, AGAIN! http://t.co/dMyAHEm1Lc</td>\n",
       "    </tr>\n",
       "    <tr>\n",
       "      <th>24</th>\n",
       "      <td>1</td>\n",
       "      <td>0.8928</td>\n",
       "      <td>i get the storage almost full notification literally every 5 minutes chill @apple</td>\n",
       "    </tr>\n",
       "    <tr>\n",
       "      <th>25</th>\n",
       "      <td>1</td>\n",
       "      <td>0.8558</td>\n",
       "      <td>I had to do made the #switch from iPhone 6 to the galaxy note edge. @apple keep up http://t.co/1Vve1htP0n</td>\n",
       "    </tr>\n",
       "    <tr>\n",
       "      <th>26</th>\n",
       "      <td>1</td>\n",
       "      <td>0.8701</td>\n",
       "      <td>@ me RT @101Baemations: Can't stand those ppl with @Apple stickers everywhere. 9/10 they prob just bought an iPod shuffle</td>\n",
       "    </tr>\n",
       "    <tr>\n",
       "      <th>39</th>\n",
       "      <td>1</td>\n",
       "      <td>0.4673</td>\n",
       "      <td>That flash crash really screwed with a lot of traders today. Not me. Im more determined than ever to make trading work for me #AAPL</td>\n",
       "    </tr>\n",
       "    <tr>\n",
       "      <th>41</th>\n",
       "      <td>1</td>\n",
       "      <td>0.7453</td>\n",
       "      <td>Nigga update yall headphones @Apple</td>\n",
       "    </tr>\n",
       "    <tr>\n",
       "      <th>43</th>\n",
       "      <td>1</td>\n",
       "      <td>0.6650</td>\n",
       "      <td>RT @thehill: Justice Department cites 18th century federal law to get @Apple to unlock iPhones: http://t.co/Eth0QpAIom</td>\n",
       "    </tr>\n",
       "  </tbody>\n",
       "</table>\n",
       "</div>"
      ],
      "text/plain": [
       "   sentiment  confidence  \\\n",
       "10         1      1.0000   \n",
       "14         1      1.0000   \n",
       "16         1      0.9399   \n",
       "23         1      1.0000   \n",
       "24         1      0.8928   \n",
       "25         1      0.8558   \n",
       "26         1      0.8701   \n",
       "39         1      0.4673   \n",
       "41         1      0.7453   \n",
       "43         1      0.6650   \n",
       "\n",
       "                                                                                                                                           tweet  \n",
       "10                                                                       WTF MY BATTERY WAS 31% ONE SECOND AGO AND NOW IS 29% WTF IS THIS @apple  \n",
       "14             @apple Contact sync between Yosemite and iOS8 is seriously screwed up. It used to be much more stable in the past. #icloud #isync  \n",
       "16                                              WARNING IF YOU BUY AN IPHONE 5S UNLOCKED FROM @APPLE IPHONE YOU CANNOT USE IT ON VERIZON NETWORK  \n",
       "23  @Apple, For the love of GAWD, CENTER the '1'on the damn calendar app. You fixed it once, its back, off center, AGAIN! http://t.co/dMyAHEm1Lc  \n",
       "24                                                             i get the storage almost full notification literally every 5 minutes chill @apple  \n",
       "25                                     I had to do made the #switch from iPhone 6 to the galaxy note edge. @apple keep up http://t.co/1Vve1htP0n  \n",
       "26                     @ me RT @101Baemations: Can't stand those ppl with @Apple stickers everywhere. 9/10 they prob just bought an iPod shuffle  \n",
       "39           That flash crash really screwed with a lot of traders today. Not me. Im more determined than ever to make trading work for me #AAPL  \n",
       "41                                                                                                           Nigga update yall headphones @Apple  \n",
       "43                        RT @thehill: Justice Department cites 18th century federal law to get @Apple to unlock iPhones: http://t.co/Eth0QpAIom  "
      ]
     },
     "metadata": {},
     "output_type": "display_data"
    }
   ],
   "source": [
    "with pd.option_context('display.max_colwidth', None):\n",
    "  display(apple_df[apple_df['sentiment'] == '1'].head(10))"
   ]
  },
  {
   "cell_type": "markdown",
   "id": "6b1211f0-74df-4a53-9873-0020f9881e1f",
   "metadata": {},
   "source": [
    "Looks like the '1' label is for negative tweets."
   ]
  },
  {
   "cell_type": "code",
   "execution_count": 15,
   "id": "22914cc4-3afd-43d9-8917-3d150855079f",
   "metadata": {
    "tags": []
   },
   "outputs": [
    {
     "data": {
      "text/html": [
       "<div>\n",
       "<style scoped>\n",
       "    .dataframe tbody tr th:only-of-type {\n",
       "        vertical-align: middle;\n",
       "    }\n",
       "\n",
       "    .dataframe tbody tr th {\n",
       "        vertical-align: top;\n",
       "    }\n",
       "\n",
       "    .dataframe thead th {\n",
       "        text-align: right;\n",
       "    }\n",
       "</style>\n",
       "<table border=\"1\" class=\"dataframe\">\n",
       "  <thead>\n",
       "    <tr style=\"text-align: right;\">\n",
       "      <th></th>\n",
       "      <th>sentiment</th>\n",
       "      <th>confidence</th>\n",
       "      <th>tweet</th>\n",
       "    </tr>\n",
       "  </thead>\n",
       "  <tbody>\n",
       "    <tr>\n",
       "      <th>6</th>\n",
       "      <td>5</td>\n",
       "      <td>0.8468</td>\n",
       "      <td>Top 3 all @Apple #tablets. Damn right! http://t.co/RJiGn2JUuB</td>\n",
       "    </tr>\n",
       "    <tr>\n",
       "      <th>7</th>\n",
       "      <td>5</td>\n",
       "      <td>0.6736</td>\n",
       "      <td>CNBCTV: #Apple's margins better than expected? #aapl http://t.co/7geVrtOGLK</td>\n",
       "    </tr>\n",
       "    <tr>\n",
       "      <th>13</th>\n",
       "      <td>5</td>\n",
       "      <td>1.0000</td>\n",
       "      <td>RT @peterpham: Bought my @AugustSmartLock at the @apple store..pretty good logo match . can't wait to install it! http://t.co/z8VKMhbnR3</td>\n",
       "    </tr>\n",
       "    <tr>\n",
       "      <th>28</th>\n",
       "      <td>5</td>\n",
       "      <td>0.5724</td>\n",
       "      <td>Latest Apple Products Leading in Efficiency http://t.co/KHeNlVT1FJ @apple #iPhone #iPad #plugloads</td>\n",
       "    </tr>\n",
       "    <tr>\n",
       "      <th>33</th>\n",
       "      <td>5</td>\n",
       "      <td>1.0000</td>\n",
       "      <td>RT @saxonidubom: @rwang0 @Apple Thanks...thinking of upgrading.</td>\n",
       "    </tr>\n",
       "    <tr>\n",
       "      <th>68</th>\n",
       "      <td>5</td>\n",
       "      <td>0.8214</td>\n",
       "      <td>Photo: Love IOS 8 @apple @iphone #Love #IOS8 #NoCrop #iphone #young #phone #screen #capturescream #boy... http://t.co/fIDj9FxHDV</td>\n",
       "    </tr>\n",
       "    <tr>\n",
       "      <th>93</th>\n",
       "      <td>5</td>\n",
       "      <td>0.6517</td>\n",
       "      <td>Just updated my ram to 16gb. @apple you guys are like shallow gf's. Take all the money, but dammit you look good.</td>\n",
       "    </tr>\n",
       "    <tr>\n",
       "      <th>97</th>\n",
       "      <td>5</td>\n",
       "      <td>0.7851</td>\n",
       "      <td>IBM: @Apple iOS users account for 21.6% of ALL online sales. 3x @android users (6.6%). They are dominating. #business #sales #cybermonday</td>\n",
       "    </tr>\n",
       "    <tr>\n",
       "      <th>102</th>\n",
       "      <td>5</td>\n",
       "      <td>0.6573</td>\n",
       "      <td>@apple please can I have new phone for Christmas? #spreadsomejoy</td>\n",
       "    </tr>\n",
       "    <tr>\n",
       "      <th>121</th>\n",
       "      <td>5</td>\n",
       "      <td>1.0000</td>\n",
       "      <td>Well played @apple http://t.co/mGbsxyiA69</td>\n",
       "    </tr>\n",
       "  </tbody>\n",
       "</table>\n",
       "</div>"
      ],
      "text/plain": [
       "    sentiment  confidence  \\\n",
       "6           5      0.8468   \n",
       "7           5      0.6736   \n",
       "13          5      1.0000   \n",
       "28          5      0.5724   \n",
       "33          5      1.0000   \n",
       "68          5      0.8214   \n",
       "93          5      0.6517   \n",
       "97          5      0.7851   \n",
       "102         5      0.6573   \n",
       "121         5      1.0000   \n",
       "\n",
       "                                                                                                                                         tweet  \n",
       "6                                                                                Top 3 all @Apple #tablets. Damn right! http://t.co/RJiGn2JUuB  \n",
       "7                                                                  CNBCTV: #Apple's margins better than expected? #aapl http://t.co/7geVrtOGLK  \n",
       "13    RT @peterpham: Bought my @AugustSmartLock at the @apple store..pretty good logo match . can't wait to install it! http://t.co/z8VKMhbnR3  \n",
       "28                                          Latest Apple Products Leading in Efficiency http://t.co/KHeNlVT1FJ @apple #iPhone #iPad #plugloads  \n",
       "33                                                                             RT @saxonidubom: @rwang0 @Apple Thanks...thinking of upgrading.  \n",
       "68            Photo: Love IOS 8 @apple @iphone #Love #IOS8 #NoCrop #iphone #young #phone #screen #capturescream #boy... http://t.co/fIDj9FxHDV  \n",
       "93                           Just updated my ram to 16gb. @apple you guys are like shallow gf's. Take all the money, but dammit you look good.  \n",
       "97   IBM: @Apple iOS users account for 21.6% of ALL online sales. 3x @android users (6.6%). They are dominating. #business #sales #cybermonday  \n",
       "102                                                                           @apple please can I have new phone for Christmas? #spreadsomejoy  \n",
       "121                                                                                                  Well played @apple http://t.co/mGbsxyiA69  "
      ]
     },
     "metadata": {},
     "output_type": "display_data"
    }
   ],
   "source": [
    "with pd.option_context('display.max_colwidth', None):\n",
    "  display(apple_df[apple_df['sentiment'] == '5'].head(10))"
   ]
  },
  {
   "cell_type": "markdown",
   "id": "f03dfd85-8ec2-41ca-af51-65cd42351029",
   "metadata": {},
   "source": [
    "And '5' is positive."
   ]
  },
  {
   "cell_type": "code",
   "execution_count": 16,
   "id": "5f024b7b-68ee-4528-bef4-d05d34ced9ef",
   "metadata": {
    "tags": []
   },
   "outputs": [
    {
     "data": {
      "text/html": [
       "<div>\n",
       "<style scoped>\n",
       "    .dataframe tbody tr th:only-of-type {\n",
       "        vertical-align: middle;\n",
       "    }\n",
       "\n",
       "    .dataframe tbody tr th {\n",
       "        vertical-align: top;\n",
       "    }\n",
       "\n",
       "    .dataframe thead th {\n",
       "        text-align: right;\n",
       "    }\n",
       "</style>\n",
       "<table border=\"1\" class=\"dataframe\">\n",
       "  <thead>\n",
       "    <tr style=\"text-align: right;\">\n",
       "      <th></th>\n",
       "      <th>sentiment</th>\n",
       "      <th>confidence</th>\n",
       "      <th>tweet</th>\n",
       "    </tr>\n",
       "  </thead>\n",
       "  <tbody>\n",
       "    <tr>\n",
       "      <th>0</th>\n",
       "      <td>3</td>\n",
       "      <td>0.6264</td>\n",
       "      <td>#AAPL:The 10 best Steve Jobs emails ever...http://t.co/82G1kL94tx</td>\n",
       "    </tr>\n",
       "    <tr>\n",
       "      <th>1</th>\n",
       "      <td>3</td>\n",
       "      <td>0.8129</td>\n",
       "      <td>RT @JPDesloges: Why AAPL Stock Had a Mini-Flash Crash Today $AAPL #aapl\\nhttp://t.co/hGFcjYa0E9</td>\n",
       "    </tr>\n",
       "    <tr>\n",
       "      <th>2</th>\n",
       "      <td>3</td>\n",
       "      <td>1.0000</td>\n",
       "      <td>My cat only chews @apple cords. Such an #AppleSnob.</td>\n",
       "    </tr>\n",
       "    <tr>\n",
       "      <th>3</th>\n",
       "      <td>3</td>\n",
       "      <td>0.5848</td>\n",
       "      <td>I agree with @jimcramer that the #IndividualInvestor should own not trade #Apple #AAPL, it's extended so today's pullback is good to see</td>\n",
       "    </tr>\n",
       "    <tr>\n",
       "      <th>4</th>\n",
       "      <td>3</td>\n",
       "      <td>0.6474</td>\n",
       "      <td>Nobody expects the Spanish Inquisition #AAPL</td>\n",
       "    </tr>\n",
       "    <tr>\n",
       "      <th>5</th>\n",
       "      <td>3</td>\n",
       "      <td>0.5975</td>\n",
       "      <td>#AAPL:5 Rocket Stocks to Buy for December Gains: Apple and More...http://t.co/eG5XhXdLLS</td>\n",
       "    </tr>\n",
       "    <tr>\n",
       "      <th>8</th>\n",
       "      <td>3</td>\n",
       "      <td>0.7997</td>\n",
       "      <td>Apple Inc. Flash Crash: What You Need to Know http://t.co/YJIgtifdAj #AAPL</td>\n",
       "    </tr>\n",
       "    <tr>\n",
       "      <th>9</th>\n",
       "      <td>3</td>\n",
       "      <td>0.6360</td>\n",
       "      <td>#AAPL:This Presentation Shows What Makes The World's Biggest Tech Companies ...http://t.co/qlH9PqSoSd</td>\n",
       "    </tr>\n",
       "    <tr>\n",
       "      <th>11</th>\n",
       "      <td>3</td>\n",
       "      <td>0.6658</td>\n",
       "      <td>Apple Watch Tops Search Engine List of Best Wearable Tech http://t.co/LTEzJzqqF8 #AAPL #iWatch #AppleWatch</td>\n",
       "    </tr>\n",
       "    <tr>\n",
       "      <th>12</th>\n",
       "      <td>3</td>\n",
       "      <td>0.8381</td>\n",
       "      <td>The Best-Designed #iPhone #Apps In the World, According to @apple: http://t.co/Razqvpxofg http://t.co/ev7uKWiEcz</td>\n",
       "    </tr>\n",
       "  </tbody>\n",
       "</table>\n",
       "</div>"
      ],
      "text/plain": [
       "   sentiment  confidence  \\\n",
       "0          3      0.6264   \n",
       "1          3      0.8129   \n",
       "2          3      1.0000   \n",
       "3          3      0.5848   \n",
       "4          3      0.6474   \n",
       "5          3      0.5975   \n",
       "8          3      0.7997   \n",
       "9          3      0.6360   \n",
       "11         3      0.6658   \n",
       "12         3      0.8381   \n",
       "\n",
       "                                                                                                                                       tweet  \n",
       "0                                                                          #AAPL:The 10 best Steve Jobs emails ever...http://t.co/82G1kL94tx  \n",
       "1                                            RT @JPDesloges: Why AAPL Stock Had a Mini-Flash Crash Today $AAPL #aapl\\nhttp://t.co/hGFcjYa0E9  \n",
       "2                                                                                        My cat only chews @apple cords. Such an #AppleSnob.  \n",
       "3   I agree with @jimcramer that the #IndividualInvestor should own not trade #Apple #AAPL, it's extended so today's pullback is good to see  \n",
       "4                                                                                               Nobody expects the Spanish Inquisition #AAPL  \n",
       "5                                                   #AAPL:5 Rocket Stocks to Buy for December Gains: Apple and More...http://t.co/eG5XhXdLLS  \n",
       "8                                                                 Apple Inc. Flash Crash: What You Need to Know http://t.co/YJIgtifdAj #AAPL  \n",
       "9                                      #AAPL:This Presentation Shows What Makes The World's Biggest Tech Companies ...http://t.co/qlH9PqSoSd  \n",
       "11                                Apple Watch Tops Search Engine List of Best Wearable Tech http://t.co/LTEzJzqqF8 #AAPL #iWatch #AppleWatch  \n",
       "12                          The Best-Designed #iPhone #Apps In the World, According to @apple: http://t.co/Razqvpxofg http://t.co/ev7uKWiEcz  "
      ]
     },
     "metadata": {},
     "output_type": "display_data"
    }
   ],
   "source": [
    "with pd.option_context('display.max_colwidth', None):\n",
    "  display(apple_df[apple_df['sentiment'] == '3'].head(10))"
   ]
  },
  {
   "cell_type": "markdown",
   "id": "31f778dc-afac-4924-b3a2-bc306f576342",
   "metadata": {},
   "source": [
    "That means '3' must be neutral."
   ]
  },
  {
   "cell_type": "code",
   "execution_count": 17,
   "id": "a50c0ec6-c080-42f2-83c9-5253c8e7e625",
   "metadata": {
    "tags": []
   },
   "outputs": [
    {
     "data": {
      "text/html": [
       "<div>\n",
       "<style scoped>\n",
       "    .dataframe tbody tr th:only-of-type {\n",
       "        vertical-align: middle;\n",
       "    }\n",
       "\n",
       "    .dataframe tbody tr th {\n",
       "        vertical-align: top;\n",
       "    }\n",
       "\n",
       "    .dataframe thead th {\n",
       "        text-align: right;\n",
       "    }\n",
       "</style>\n",
       "<table border=\"1\" class=\"dataframe\">\n",
       "  <thead>\n",
       "    <tr style=\"text-align: right;\">\n",
       "      <th></th>\n",
       "      <th>sentiment</th>\n",
       "      <th>confidence</th>\n",
       "      <th>tweet</th>\n",
       "    </tr>\n",
       "  </thead>\n",
       "  <tbody>\n",
       "    <tr>\n",
       "      <th>17</th>\n",
       "      <td>not_relevant</td>\n",
       "      <td>0.6904</td>\n",
       "      <td>@Apple John Cantlie has been a prisoner of ISIS for 739 days, show you have not abandoned him. Sign https://t.co/WTn4fuiJ0P</td>\n",
       "    </tr>\n",
       "    <tr>\n",
       "      <th>20</th>\n",
       "      <td>not_relevant</td>\n",
       "      <td>1.0000</td>\n",
       "      <td>$AAPL dip only momentarily....just an aberration in the equity world..#AAPL</td>\n",
       "    </tr>\n",
       "    <tr>\n",
       "      <th>75</th>\n",
       "      <td>not_relevant</td>\n",
       "      <td>0.6527</td>\n",
       "      <td>My daughter's @Apple #iPod stolen. To the thief: try working as hard to earn one - like my daughter had to buy hers. #LosingFaithInPeople</td>\n",
       "    </tr>\n",
       "    <tr>\n",
       "      <th>106</th>\n",
       "      <td>not_relevant</td>\n",
       "      <td>0.6697</td>\n",
       "      <td>RT  Chayton Falke ChaytonFalke :#Nasdaq100 #recent #market #exit #4: Sold $AAPL long for a 10.49% #gain in 20 days. #AAPL #forex #trading...</td>\n",
       "    </tr>\n",
       "    <tr>\n",
       "      <th>115</th>\n",
       "      <td>not_relevant</td>\n",
       "      <td>0.5409</td>\n",
       "      <td>Myths vs. Reality in Full-Time #Trading http://t.co/JH7BMS1Kgb #stocks\\r\\n#futures #forex #trader #es #nq #cl #aapl #gpro #finance #eSignal</td>\n",
       "    </tr>\n",
       "    <tr>\n",
       "      <th>129</th>\n",
       "      <td>not_relevant</td>\n",
       "      <td>0.5288</td>\n",
       "      <td>#GoPro: What Competition? Part 2 #GPRO  #AAPL #SNE http://t.co/4tgYDYdprt</td>\n",
       "    </tr>\n",
       "    <tr>\n",
       "      <th>161</th>\n",
       "      <td>not_relevant</td>\n",
       "      <td>0.4978</td>\n",
       "      <td>Why is it that the no firm has acquired the bloomberg terminal service yet  #aapl? I wish it had a #goog search function.</td>\n",
       "    </tr>\n",
       "    <tr>\n",
       "      <th>205</th>\n",
       "      <td>not_relevant</td>\n",
       "      <td>0.6697</td>\n",
       "      <td>holy shit what have I missed what did Obama do this time \\r\\n#stocks #NASDAQ #NYSE #AAPL #DOWJ http://t.co/ZMKp6xyJk4</td>\n",
       "    </tr>\n",
       "    <tr>\n",
       "      <th>241</th>\n",
       "      <td>not_relevant</td>\n",
       "      <td>0.7011</td>\n",
       "      <td>Benzinga's Top #PreMarket Losers http://t.co/vfUSrHxQX0 #AAPL #GOLD #NEM #News #NVAX #PreMarket #Markets</td>\n",
       "    </tr>\n",
       "    <tr>\n",
       "      <th>264</th>\n",
       "      <td>not_relevant</td>\n",
       "      <td>0.6672</td>\n",
       "      <td>@JustinPulitzer Looking for $105-$109... #AAPL</td>\n",
       "    </tr>\n",
       "  </tbody>\n",
       "</table>\n",
       "</div>"
      ],
      "text/plain": [
       "        sentiment  confidence  \\\n",
       "17   not_relevant      0.6904   \n",
       "20   not_relevant      1.0000   \n",
       "75   not_relevant      0.6527   \n",
       "106  not_relevant      0.6697   \n",
       "115  not_relevant      0.5409   \n",
       "129  not_relevant      0.5288   \n",
       "161  not_relevant      0.4978   \n",
       "205  not_relevant      0.6697   \n",
       "241  not_relevant      0.7011   \n",
       "264  not_relevant      0.6672   \n",
       "\n",
       "                                                                                                                                            tweet  \n",
       "17                    @Apple John Cantlie has been a prisoner of ISIS for 739 days, show you have not abandoned him. Sign https://t.co/WTn4fuiJ0P  \n",
       "20                                                                    $AAPL dip only momentarily....just an aberration in the equity world..#AAPL  \n",
       "75      My daughter's @Apple #iPod stolen. To the thief: try working as hard to earn one - like my daughter had to buy hers. #LosingFaithInPeople  \n",
       "106  RT  Chayton Falke ChaytonFalke :#Nasdaq100 #recent #market #exit #4: Sold $AAPL long for a 10.49% #gain in 20 days. #AAPL #forex #trading...  \n",
       "115   Myths vs. Reality in Full-Time #Trading http://t.co/JH7BMS1Kgb #stocks\\r\\n#futures #forex #trader #es #nq #cl #aapl #gpro #finance #eSignal  \n",
       "129                                                                     #GoPro: What Competition? Part 2 #GPRO  #AAPL #SNE http://t.co/4tgYDYdprt  \n",
       "161                     Why is it that the no firm has acquired the bloomberg terminal service yet  #aapl? I wish it had a #goog search function.  \n",
       "205                         holy shit what have I missed what did Obama do this time \\r\\n#stocks #NASDAQ #NYSE #AAPL #DOWJ http://t.co/ZMKp6xyJk4  \n",
       "241                                      Benzinga's Top #PreMarket Losers http://t.co/vfUSrHxQX0 #AAPL #GOLD #NEM #News #NVAX #PreMarket #Markets  \n",
       "264                                                                                                @JustinPulitzer Looking for $105-$109... #AAPL  "
      ]
     },
     "metadata": {},
     "output_type": "display_data"
    }
   ],
   "source": [
    "with pd.option_context('display.max_colwidth', None):\n",
    "  display(apple_df[apple_df['sentiment'] == 'not_relevant'].head(10))"
   ]
  },
  {
   "cell_type": "markdown",
   "id": "d4c79d8b-e915-4820-afa3-c7bf8fd90378",
   "metadata": {},
   "source": [
    "Let's drop these 'not_relevant' tweets. They won't be good for the model.\n",
    "\n",
    "And we can relabel [1, 3, 5] as [0, 1, 2]."
   ]
  },
  {
   "cell_type": "code",
   "execution_count": 18,
   "id": "7d53598c-f376-4eef-8f29-91c4d69627b7",
   "metadata": {
    "tags": []
   },
   "outputs": [
    {
     "name": "stdout",
     "output_type": "stream",
     "text": [
      "<class 'pandas.core.frame.DataFrame'>\n",
      "Int64Index: 3804 entries, 0 to 3885\n",
      "Data columns (total 3 columns):\n",
      " #   Column      Non-Null Count  Dtype  \n",
      "---  ------      --------------  -----  \n",
      " 0   sentiment   3804 non-null   int64  \n",
      " 1   confidence  3804 non-null   float64\n",
      " 2   tweet       3804 non-null   object \n",
      "dtypes: float64(1), int64(1), object(1)\n",
      "memory usage: 118.9+ KB\n"
     ]
    }
   ],
   "source": [
    "# Drop tweets labeled as 'not_relevant'\n",
    "apple_df = apple_df[apple_df['sentiment'] != 'not_relevant']\n",
    "\n",
    "# Replace sentiment labels\n",
    "apple_df.sentiment.replace(['1', '3', '5'],[0, 1, 2], inplace=True)\n",
    "\n",
    "# Recast sentiment as integer\n",
    "apple_df.sentiment = apple_df.sentiment.astype('int')\n",
    "\n",
    "# Inspect\n",
    "apple_df.info()"
   ]
  },
  {
   "cell_type": "code",
   "execution_count": 19,
   "id": "6b8a7452-64bb-4bad-98f2-6563d0a6d8c6",
   "metadata": {
    "tags": []
   },
   "outputs": [
    {
     "data": {
      "image/png": "[encoded data removed]",
      "text/plain": [
       "<Figure size 640x480 with 1 Axes>"
      ]
     },
     "metadata": {},
     "output_type": "display_data"
    }
   ],
   "source": [
    "# Bar plot\n",
    "sns.barplot(x = apple_df.sentiment.value_counts().index, \n",
    "             y = apple_df.sentiment.value_counts().values);"
   ]
  },
  {
   "cell_type": "markdown",
   "id": "d868f5a2-c3cf-497a-a204-0be282a7473e",
   "metadata": {},
   "source": [
    "Mostly neutral. Combined with the airline dataset, we take note that the positive labels would still be underrepresented."
   ]
  },
  {
   "cell_type": "code",
   "execution_count": 20,
   "id": "8f230659-a73a-4e3b-8e03-68643327645c",
   "metadata": {
    "tags": []
   },
   "outputs": [
    {
     "data": {
      "text/html": [
       "<div>\n",
       "<style scoped>\n",
       "    .dataframe tbody tr th:only-of-type {\n",
       "        vertical-align: middle;\n",
       "    }\n",
       "\n",
       "    .dataframe tbody tr th {\n",
       "        vertical-align: top;\n",
       "    }\n",
       "\n",
       "    .dataframe thead th {\n",
       "        text-align: right;\n",
       "    }\n",
       "</style>\n",
       "<table border=\"1\" class=\"dataframe\">\n",
       "  <thead>\n",
       "    <tr style=\"text-align: right;\">\n",
       "      <th></th>\n",
       "      <th>sentiment</th>\n",
       "      <th>confidence</th>\n",
       "      <th>tweet</th>\n",
       "    </tr>\n",
       "  </thead>\n",
       "  <tbody>\n",
       "    <tr>\n",
       "      <th>0</th>\n",
       "      <td>1</td>\n",
       "      <td>0.6264</td>\n",
       "      <td>#AAPL:The 10 best Steve Jobs emails ever...htt...</td>\n",
       "    </tr>\n",
       "    <tr>\n",
       "      <th>1</th>\n",
       "      <td>1</td>\n",
       "      <td>0.8129</td>\n",
       "      <td>RT @JPDesloges: Why AAPL Stock Had a Mini-Flas...</td>\n",
       "    </tr>\n",
       "    <tr>\n",
       "      <th>2</th>\n",
       "      <td>1</td>\n",
       "      <td>1.0000</td>\n",
       "      <td>My cat only chews @apple cords. Such an #Apple...</td>\n",
       "    </tr>\n",
       "    <tr>\n",
       "      <th>3</th>\n",
       "      <td>1</td>\n",
       "      <td>0.5848</td>\n",
       "      <td>I agree with @jimcramer that the #IndividualIn...</td>\n",
       "    </tr>\n",
       "    <tr>\n",
       "      <th>4</th>\n",
       "      <td>1</td>\n",
       "      <td>0.6474</td>\n",
       "      <td>Nobody expects the Spanish Inquisition #AAPL</td>\n",
       "    </tr>\n",
       "  </tbody>\n",
       "</table>\n",
       "</div>"
      ],
      "text/plain": [
       "   sentiment  confidence                                              tweet\n",
       "0          1      0.6264  #AAPL:The 10 best Steve Jobs emails ever...htt...\n",
       "1          1      0.8129  RT @JPDesloges: Why AAPL Stock Had a Mini-Flas...\n",
       "2          1      1.0000  My cat only chews @apple cords. Such an #Apple...\n",
       "3          1      0.5848  I agree with @jimcramer that the #IndividualIn...\n",
       "4          1      0.6474       Nobody expects the Spanish Inquisition #AAPL"
      ]
     },
     "execution_count": 20,
     "metadata": {},
     "output_type": "execute_result"
    }
   ],
   "source": [
    "apple_df.head()"
   ]
  },
  {
   "cell_type": "markdown",
   "id": "d72165e2-a737-4849-a764-b95fb2204b63",
   "metadata": {},
   "source": [
    "So far, so good. On to the next... it's a big one."
   ]
  },
  {
   "cell_type": "markdown",
   "id": "e57eba16-fe6c-450f-97d7-5c929bf79ec3",
   "metadata": {},
   "source": [
    "## Kaggle Sentiment140 Data"
   ]
  },
  {
   "cell_type": "code",
   "execution_count": 21,
   "id": "5eb63fa2-2c8e-4dd6-9136-8b74660aaad3",
   "metadata": {
    "tags": []
   },
   "outputs": [
    {
     "data": {
      "text/html": [
       "<div>\n",
       "<style scoped>\n",
       "    .dataframe tbody tr th:only-of-type {\n",
       "        vertical-align: middle;\n",
       "    }\n",
       "\n",
       "    .dataframe tbody tr th {\n",
       "        vertical-align: top;\n",
       "    }\n",
       "\n",
       "    .dataframe thead th {\n",
       "        text-align: right;\n",
       "    }\n",
       "</style>\n",
       "<table border=\"1\" class=\"dataframe\">\n",
       "  <thead>\n",
       "    <tr style=\"text-align: right;\">\n",
       "      <th></th>\n",
       "      <th>target</th>\n",
       "      <th>ids</th>\n",
       "      <th>date</th>\n",
       "      <th>flag</th>\n",
       "      <th>user</th>\n",
       "      <th>text</th>\n",
       "    </tr>\n",
       "  </thead>\n",
       "  <tbody>\n",
       "    <tr>\n",
       "      <th>0</th>\n",
       "      <td>0</td>\n",
       "      <td>1467810369</td>\n",
       "      <td>Mon Apr 06 22:19:45 PDT 2009</td>\n",
       "      <td>NO_QUERY</td>\n",
       "      <td>_TheSpecialOne_</td>\n",
       "      <td>@switchfoot http://twitpic.com/2y1zl - Awww, t...</td>\n",
       "    </tr>\n",
       "    <tr>\n",
       "      <th>1</th>\n",
       "      <td>0</td>\n",
       "      <td>1467810672</td>\n",
       "      <td>Mon Apr 06 22:19:49 PDT 2009</td>\n",
       "      <td>NO_QUERY</td>\n",
       "      <td>scotthamilton</td>\n",
       "      <td>is upset that he can't update his Facebook by ...</td>\n",
       "    </tr>\n",
       "    <tr>\n",
       "      <th>2</th>\n",
       "      <td>0</td>\n",
       "      <td>1467810917</td>\n",
       "      <td>Mon Apr 06 22:19:53 PDT 2009</td>\n",
       "      <td>NO_QUERY</td>\n",
       "      <td>mattycus</td>\n",
       "      <td>@Kenichan I dived many times for the ball. Man...</td>\n",
       "    </tr>\n",
       "    <tr>\n",
       "      <th>3</th>\n",
       "      <td>0</td>\n",
       "      <td>1467811184</td>\n",
       "      <td>Mon Apr 06 22:19:57 PDT 2009</td>\n",
       "      <td>NO_QUERY</td>\n",
       "      <td>ElleCTF</td>\n",
       "      <td>my whole body feels itchy and like its on fire</td>\n",
       "    </tr>\n",
       "    <tr>\n",
       "      <th>4</th>\n",
       "      <td>0</td>\n",
       "      <td>1467811193</td>\n",
       "      <td>Mon Apr 06 22:19:57 PDT 2009</td>\n",
       "      <td>NO_QUERY</td>\n",
       "      <td>Karoli</td>\n",
       "      <td>@nationwideclass no, it's not behaving at all....</td>\n",
       "    </tr>\n",
       "  </tbody>\n",
       "</table>\n",
       "</div>"
      ],
      "text/plain": [
       "   target         ids                          date      flag  \\\n",
       "0       0  1467810369  Mon Apr 06 22:19:45 PDT 2009  NO_QUERY   \n",
       "1       0  1467810672  Mon Apr 06 22:19:49 PDT 2009  NO_QUERY   \n",
       "2       0  1467810917  Mon Apr 06 22:19:53 PDT 2009  NO_QUERY   \n",
       "3       0  1467811184  Mon Apr 06 22:19:57 PDT 2009  NO_QUERY   \n",
       "4       0  1467811193  Mon Apr 06 22:19:57 PDT 2009  NO_QUERY   \n",
       "\n",
       "              user                                               text  \n",
       "0  _TheSpecialOne_  @switchfoot http://twitpic.com/2y1zl - Awww, t...  \n",
       "1    scotthamilton  is upset that he can't update his Facebook by ...  \n",
       "2         mattycus  @Kenichan I dived many times for the ball. Man...  \n",
       "3          ElleCTF    my whole body feels itchy and like its on fire   \n",
       "4           Karoli  @nationwideclass no, it's not behaving at all....  "
      ]
     },
     "execution_count": 21,
     "metadata": {},
     "output_type": "execute_result"
    }
   ],
   "source": [
    "# AWS code to load data from s3\n",
    "obj = s3.get_object(Bucket = 'rawdatatweets',Key = 'Data/training.1600000.processed.noemoticon.csv')\n",
    "\n",
    "# Load up data, ignore encoding errors\n",
    "kaggle_df = pd.read_csv(obj['Body'], encoding='utf-8', encoding_errors='ignore', names=['target', 'ids', 'date', 'flag', 'user', 'text'])\n",
    "\n",
    "kaggle_df.head()"
   ]
  },
  {
   "cell_type": "code",
   "execution_count": 22,
   "id": "a50d6c5f-01a1-463e-87ef-e9014fdaa376",
   "metadata": {
    "tags": []
   },
   "outputs": [
    {
     "data": {
      "text/plain": [
       "False    1600000\n",
       "dtype: int64"
      ]
     },
     "execution_count": 22,
     "metadata": {},
     "output_type": "execute_result"
    }
   ],
   "source": [
    "# Check for duplicates\n",
    "kaggle_df.duplicated().value_counts()"
   ]
  },
  {
   "cell_type": "markdown",
   "id": "28a5e4fb-36c1-43d3-8c7f-b9cc6ff767f4",
   "metadata": {},
   "source": [
    "Good to not see duplicates. But no confidence levels? We may or may not end up using this data. But let's carry on for now."
   ]
  },
  {
   "cell_type": "code",
   "execution_count": 23,
   "id": "caf40852-b99f-41b7-9ca7-66c59ee365cb",
   "metadata": {
    "tags": []
   },
   "outputs": [
    {
     "data": {
      "text/html": [
       "<div>\n",
       "<style scoped>\n",
       "    .dataframe tbody tr th:only-of-type {\n",
       "        vertical-align: middle;\n",
       "    }\n",
       "\n",
       "    .dataframe tbody tr th {\n",
       "        vertical-align: top;\n",
       "    }\n",
       "\n",
       "    .dataframe thead th {\n",
       "        text-align: right;\n",
       "    }\n",
       "</style>\n",
       "<table border=\"1\" class=\"dataframe\">\n",
       "  <thead>\n",
       "    <tr style=\"text-align: right;\">\n",
       "      <th></th>\n",
       "      <th>sentiment</th>\n",
       "      <th>tweet</th>\n",
       "    </tr>\n",
       "  </thead>\n",
       "  <tbody>\n",
       "    <tr>\n",
       "      <th>0</th>\n",
       "      <td>0</td>\n",
       "      <td>@switchfoot http://twitpic.com/2y1zl - Awww, t...</td>\n",
       "    </tr>\n",
       "    <tr>\n",
       "      <th>1</th>\n",
       "      <td>0</td>\n",
       "      <td>is upset that he can't update his Facebook by ...</td>\n",
       "    </tr>\n",
       "    <tr>\n",
       "      <th>2</th>\n",
       "      <td>0</td>\n",
       "      <td>@Kenichan I dived many times for the ball. Man...</td>\n",
       "    </tr>\n",
       "  </tbody>\n",
       "</table>\n",
       "</div>"
      ],
      "text/plain": [
       "   sentiment                                              tweet\n",
       "0          0  @switchfoot http://twitpic.com/2y1zl - Awww, t...\n",
       "1          0  is upset that he can't update his Facebook by ...\n",
       "2          0  @Kenichan I dived many times for the ball. Man..."
      ]
     },
     "execution_count": 23,
     "metadata": {},
     "output_type": "execute_result"
    }
   ],
   "source": [
    "# Drop all cols except sentiment and tweet\n",
    "kaggle_df = kaggle_df[['target', 'text']]\n",
    "\n",
    "# Rename cols to 'sentiment' and 'tweet'\n",
    "kaggle_df.rename(columns={'target':'sentiment', 'text':'tweet'}, inplace=True)\n",
    "\n",
    "# Inspect\n",
    "kaggle_df.head(3)"
   ]
  },
  {
   "cell_type": "markdown",
   "id": "3e9731c5-801d-405a-a9a9-414814565502",
   "metadata": {},
   "source": [
    "The data dictionary provided on the kaggle page lists the sentiment labels as follows:\n",
    "\n",
    "`0. Negative`\n",
    "\n",
    "`2. Neutral`\n",
    "\n",
    "`4. Positive`"
   ]
  },
  {
   "cell_type": "code",
   "execution_count": 24,
   "id": "66cb4c30-b932-46e2-9c84-ad57fddd6c32",
   "metadata": {
    "tags": []
   },
   "outputs": [
    {
     "name": "stdout",
     "output_type": "stream",
     "text": [
      "<class 'pandas.core.frame.DataFrame'>\n",
      "RangeIndex: 1600000 entries, 0 to 1599999\n",
      "Data columns (total 2 columns):\n",
      " #   Column     Non-Null Count    Dtype \n",
      "---  ------     --------------    ----- \n",
      " 0   sentiment  1600000 non-null  int64 \n",
      " 1   tweet      1600000 non-null  object\n",
      "dtypes: int64(1), object(1)\n",
      "memory usage: 24.4+ MB\n"
     ]
    }
   ],
   "source": [
    "# Replace sentiment labels\n",
    "kaggle_df.sentiment.replace([0, 2, 4],[0, 1, 2], inplace=True)\n",
    "\n",
    "# Recast sentiment as integer\n",
    "kaggle_df.sentiment = kaggle_df.sentiment.astype('int')\n",
    "\n",
    "# Inspect\n",
    "kaggle_df.info()"
   ]
  },
  {
   "cell_type": "code",
   "execution_count": 25,
   "id": "d833da4f-af94-4a93-b68a-b064dd909e22",
   "metadata": {
    "tags": []
   },
   "outputs": [
    {
     "data": {
      "text/plain": [
       "0    800000\n",
       "2    800000\n",
       "Name: sentiment, dtype: int64"
      ]
     },
     "execution_count": 25,
     "metadata": {},
     "output_type": "execute_result"
    }
   ],
   "source": [
    "kaggle_df.sentiment.value_counts(dropna=False)"
   ]
  },
  {
   "cell_type": "code",
   "execution_count": 26,
   "id": "0f45193e-021c-4367-a0bd-2390965c02bb",
   "metadata": {
    "tags": []
   },
   "outputs": [
    {
     "data": {
      "image/png": "[encoded data removed]",
      "text/plain": [
       "<Figure size 640x480 with 1 Axes>"
      ]
     },
     "metadata": {},
     "output_type": "display_data"
    }
   ],
   "source": [
    "# Bar plot\n",
    "sns.barplot(x = kaggle_df.sentiment.value_counts().index, \n",
    "             y = kaggle_df.sentiment.value_counts().values);"
   ]
  },
  {
   "cell_type": "markdown",
   "id": "40fd99d4-f096-4bcf-a4d6-787701e34c45",
   "metadata": {},
   "source": [
    "Hmm... No neutrals in this data. Another strike against this set.\n",
    "\n",
    "Also, it's perfectly balanced? That's strange. Let's get a closer look at some sample tweets."
   ]
  },
  {
   "cell_type": "code",
   "execution_count": 27,
   "id": "0efe5dec-9d57-4ad0-8aa5-6a18ec2ee878",
   "metadata": {
    "tags": []
   },
   "outputs": [
    {
     "data": {
      "text/html": [
       "<div>\n",
       "<style scoped>\n",
       "    .dataframe tbody tr th:only-of-type {\n",
       "        vertical-align: middle;\n",
       "    }\n",
       "\n",
       "    .dataframe tbody tr th {\n",
       "        vertical-align: top;\n",
       "    }\n",
       "\n",
       "    .dataframe thead th {\n",
       "        text-align: right;\n",
       "    }\n",
       "</style>\n",
       "<table border=\"1\" class=\"dataframe\">\n",
       "  <thead>\n",
       "    <tr style=\"text-align: right;\">\n",
       "      <th></th>\n",
       "      <th>sentiment</th>\n",
       "      <th>tweet</th>\n",
       "    </tr>\n",
       "  </thead>\n",
       "  <tbody>\n",
       "    <tr>\n",
       "      <th>705632</th>\n",
       "      <td>0</td>\n",
       "      <td>Getting in a car accident when you're in a parked car is just special...</td>\n",
       "    </tr>\n",
       "    <tr>\n",
       "      <th>664196</th>\n",
       "      <td>0</td>\n",
       "      <td>Waiting on the Ipod touch 2nd gen Jailbreak . itouch 2g always left fa last</td>\n",
       "    </tr>\n",
       "    <tr>\n",
       "      <th>254805</th>\n",
       "      <td>0</td>\n",
       "      <td>@gfalcone601 hey, can you ask Tom to go to the front of the hotel with the guys and meet the fans? they're freezing on the rain for them!</td>\n",
       "    </tr>\n",
       "    <tr>\n",
       "      <th>21093</th>\n",
       "      <td>0</td>\n",
       "      <td>@LordBlackadder Yes I agree with that one!Clue starts next week without Humph sadly  but with @stephenfry as a host...</td>\n",
       "    </tr>\n",
       "    <tr>\n",
       "      <th>123425</th>\n",
       "      <td>0</td>\n",
       "      <td>Definitely unwell today. In the bathroom every few minutes. Feels like constant mini explosions in my stomach</td>\n",
       "    </tr>\n",
       "    <tr>\n",
       "      <th>247907</th>\n",
       "      <td>0</td>\n",
       "      <td>hey guys i just woke up, it's six. i'm scared. it's raining. i live a sad life.</td>\n",
       "    </tr>\n",
       "    <tr>\n",
       "      <th>395672</th>\n",
       "      <td>0</td>\n",
       "      <td>@introducingemy Aww. Why so sad?</td>\n",
       "    </tr>\n",
       "    <tr>\n",
       "      <th>641736</th>\n",
       "      <td>0</td>\n",
       "      <td>'love drunk' needs to come out now, i need martin johnson</td>\n",
       "    </tr>\n",
       "    <tr>\n",
       "      <th>413901</th>\n",
       "      <td>0</td>\n",
       "      <td>Got a Palm Pre this afternoon, but I still can't get it activated. Having trouble porting my Centennial number. Maybe tomorrow...</td>\n",
       "    </tr>\n",
       "    <tr>\n",
       "      <th>602652</th>\n",
       "      <td>0</td>\n",
       "      <td>@JOEsus i was expecting mocha or vanilla  oh well works too )))</td>\n",
       "    </tr>\n",
       "  </tbody>\n",
       "</table>\n",
       "</div>"
      ],
      "text/plain": [
       "        sentiment  \\\n",
       "705632          0   \n",
       "664196          0   \n",
       "254805          0   \n",
       "21093           0   \n",
       "123425          0   \n",
       "247907          0   \n",
       "395672          0   \n",
       "641736          0   \n",
       "413901          0   \n",
       "602652          0   \n",
       "\n",
       "                                                                                                                                             tweet  \n",
       "705632                                                                   Getting in a car accident when you're in a parked car is just special...   \n",
       "664196                                                                Waiting on the Ipod touch 2nd gen Jailbreak . itouch 2g always left fa last   \n",
       "254805  @gfalcone601 hey, can you ask Tom to go to the front of the hotel with the guys and meet the fans? they're freezing on the rain for them!   \n",
       "21093                       @LordBlackadder Yes I agree with that one!Clue starts next week without Humph sadly  but with @stephenfry as a host...  \n",
       "123425                              Definitely unwell today. In the bathroom every few minutes. Feels like constant mini explosions in my stomach   \n",
       "247907                                                            hey guys i just woke up, it's six. i'm scared. it's raining. i live a sad life.   \n",
       "395672                                                                                                           @introducingemy Aww. Why so sad?   \n",
       "641736                                                                                  'love drunk' needs to come out now, i need martin johnson   \n",
       "413901          Got a Palm Pre this afternoon, but I still can't get it activated. Having trouble porting my Centennial number. Maybe tomorrow...   \n",
       "602652                                                                             @JOEsus i was expecting mocha or vanilla  oh well works too )))  "
      ]
     },
     "metadata": {},
     "output_type": "display_data"
    }
   ],
   "source": [
    "with pd.option_context('display.max_colwidth', None):\n",
    "  display(kaggle_df[kaggle_df['sentiment'] == 0].sample(n=10))"
   ]
  },
  {
   "cell_type": "code",
   "execution_count": 28,
   "id": "ebaf6d70-bcea-47ee-acc4-186b5ad3ad98",
   "metadata": {
    "tags": []
   },
   "outputs": [
    {
     "data": {
      "text/html": [
       "<div>\n",
       "<style scoped>\n",
       "    .dataframe tbody tr th:only-of-type {\n",
       "        vertical-align: middle;\n",
       "    }\n",
       "\n",
       "    .dataframe tbody tr th {\n",
       "        vertical-align: top;\n",
       "    }\n",
       "\n",
       "    .dataframe thead th {\n",
       "        text-align: right;\n",
       "    }\n",
       "</style>\n",
       "<table border=\"1\" class=\"dataframe\">\n",
       "  <thead>\n",
       "    <tr style=\"text-align: right;\">\n",
       "      <th></th>\n",
       "      <th>sentiment</th>\n",
       "      <th>tweet</th>\n",
       "    </tr>\n",
       "  </thead>\n",
       "  <tbody>\n",
       "    <tr>\n",
       "      <th>1495018</th>\n",
       "      <td>2</td>\n",
       "      <td>@rebeccaberg i still can't believe you tweeted me from downstairs.</td>\n",
       "    </tr>\n",
       "    <tr>\n",
       "      <th>835172</th>\n",
       "      <td>2</td>\n",
       "      <td>Alemannia Aachen 2 : 0 Fsv Frankfurt    ... Yeah</td>\n",
       "    </tr>\n",
       "    <tr>\n",
       "      <th>1225884</th>\n",
       "      <td>2</td>\n",
       "      <td>@the_affair looking forward to seeing the new stuff. Whens it gonna be up? Take it you found a more convenient tripod in the end</td>\n",
       "    </tr>\n",
       "    <tr>\n",
       "      <th>1565044</th>\n",
       "      <td>2</td>\n",
       "      <td>at sonic with @erynbee @calebryan @iamrachelv i love summer nights!</td>\n",
       "    </tr>\n",
       "    <tr>\n",
       "      <th>844966</th>\n",
       "      <td>2</td>\n",
       "      <td>@archibaldcrane Thanks!</td>\n",
       "    </tr>\n",
       "    <tr>\n",
       "      <th>886966</th>\n",
       "      <td>2</td>\n",
       "      <td>@Silversmyth lol I just followed @bacon</td>\n",
       "    </tr>\n",
       "    <tr>\n",
       "      <th>1549017</th>\n",
       "      <td>2</td>\n",
       "      <td>Go to Lake Balaton on 26th of June! Drink alcohol and feel the sunshine</td>\n",
       "    </tr>\n",
       "    <tr>\n",
       "      <th>1092798</th>\n",
       "      <td>2</td>\n",
       "      <td>Hi Guys - hallo Leute ! M�chte mich abmelden - bin auf dem Weg ins Ausland. C u later - I'm on the way to UK. We stay in contact</td>\n",
       "    </tr>\n",
       "    <tr>\n",
       "      <th>1105861</th>\n",
       "      <td>2</td>\n",
       "      <td>@frankkkix sorry that was my fault  and omg im twittering you through my phone!</td>\n",
       "    </tr>\n",
       "    <tr>\n",
       "      <th>1214920</th>\n",
       "      <td>2</td>\n",
       "      <td>Had an amazingly gorgeous sunny BBQ yesterday,beautiful,with family  hope everyone is ok x more fun in the sun today x</td>\n",
       "    </tr>\n",
       "  </tbody>\n",
       "</table>\n",
       "</div>"
      ],
      "text/plain": [
       "         sentiment  \\\n",
       "1495018          2   \n",
       "835172           2   \n",
       "1225884          2   \n",
       "1565044          2   \n",
       "844966           2   \n",
       "886966           2   \n",
       "1549017          2   \n",
       "1092798          2   \n",
       "1105861          2   \n",
       "1214920          2   \n",
       "\n",
       "                                                                                                                                     tweet  \n",
       "1495018                                                               @rebeccaberg i still can't believe you tweeted me from downstairs.    \n",
       "835172                                                                                   Alemannia Aachen 2 : 0 Fsv Frankfurt    ... Yeah   \n",
       "1225884  @the_affair looking forward to seeing the new stuff. Whens it gonna be up? Take it you found a more convenient tripod in the end   \n",
       "1565044                                                               at sonic with @erynbee @calebryan @iamrachelv i love summer nights!   \n",
       "844966                                                                                                            @archibaldcrane Thanks!   \n",
       "886966                                                                                            @Silversmyth lol I just followed @bacon   \n",
       "1549017                                                           Go to Lake Balaton on 26th of June! Drink alcohol and feel the sunshine   \n",
       "1092798  Hi Guys - hallo Leute ! M�chte mich abmelden - bin auf dem Weg ins Ausland. C u later - I'm on the way to UK. We stay in contact   \n",
       "1105861                                                    @frankkkix sorry that was my fault  and omg im twittering you through my phone!  \n",
       "1214920             Had an amazingly gorgeous sunny BBQ yesterday,beautiful,with family  hope everyone is ok x more fun in the sun today x  "
      ]
     },
     "metadata": {},
     "output_type": "display_data"
    }
   ],
   "source": [
    "with pd.option_context('display.max_colwidth', None):\n",
    "  display(kaggle_df[kaggle_df['sentiment'] == 2].sample(n=10))"
   ]
  },
  {
   "cell_type": "markdown",
   "id": "29dc9f52-1f06-4fd3-8ee1-c32da0df95a1",
   "metadata": {},
   "source": [
    "## T4SA Data"
   ]
  },
  {
   "cell_type": "markdown",
   "id": "d8913b7a-cc59-484b-aff6-aad79613d4f2",
   "metadata": {},
   "source": [
    "This data is in two files:\n",
    "    \n",
    "    - t4sa_text_sentiment.tsv, which holds the sentiments and tweet ids\n",
    "    - raw_tweets_text.csv, holding the tweet id and tweet text\n",
    "\n",
    "We will loads in both and join them"
   ]
  },
  {
   "cell_type": "code",
   "execution_count": 29,
   "id": "5cedd2bc-4040-46b4-9282-beddd5ad67b4",
   "metadata": {
    "tags": []
   },
   "outputs": [
    {
     "data": {
      "text/html": [
       "<div>\n",
       "<style scoped>\n",
       "    .dataframe tbody tr th:only-of-type {\n",
       "        vertical-align: middle;\n",
       "    }\n",
       "\n",
       "    .dataframe tbody tr th {\n",
       "        vertical-align: top;\n",
       "    }\n",
       "\n",
       "    .dataframe thead th {\n",
       "        text-align: right;\n",
       "    }\n",
       "</style>\n",
       "<table border=\"1\" class=\"dataframe\">\n",
       "  <thead>\n",
       "    <tr style=\"text-align: right;\">\n",
       "      <th></th>\n",
       "      <th>TWID</th>\n",
       "      <th>NEG</th>\n",
       "      <th>NEU</th>\n",
       "      <th>POS</th>\n",
       "    </tr>\n",
       "  </thead>\n",
       "  <tbody>\n",
       "    <tr>\n",
       "      <th>0</th>\n",
       "      <td>768096868504969216</td>\n",
       "      <td>0.049398</td>\n",
       "      <td>0.861395</td>\n",
       "      <td>0.089207</td>\n",
       "    </tr>\n",
       "    <tr>\n",
       "      <th>1</th>\n",
       "      <td>768097237620490241</td>\n",
       "      <td>0.028733</td>\n",
       "      <td>0.929554</td>\n",
       "      <td>0.041713</td>\n",
       "    </tr>\n",
       "    <tr>\n",
       "      <th>2</th>\n",
       "      <td>768097619281227776</td>\n",
       "      <td>0.006598</td>\n",
       "      <td>0.046810</td>\n",
       "      <td>0.946591</td>\n",
       "    </tr>\n",
       "    <tr>\n",
       "      <th>3</th>\n",
       "      <td>768097619285536768</td>\n",
       "      <td>0.032333</td>\n",
       "      <td>0.850945</td>\n",
       "      <td>0.116722</td>\n",
       "    </tr>\n",
       "    <tr>\n",
       "      <th>4</th>\n",
       "      <td>768097627686604801</td>\n",
       "      <td>0.008090</td>\n",
       "      <td>0.042331</td>\n",
       "      <td>0.949579</td>\n",
       "    </tr>\n",
       "  </tbody>\n",
       "</table>\n",
       "</div>"
      ],
      "text/plain": [
       "                 TWID       NEG       NEU       POS\n",
       "0  768096868504969216  0.049398  0.861395  0.089207\n",
       "1  768097237620490241  0.028733  0.929554  0.041713\n",
       "2  768097619281227776  0.006598  0.046810  0.946591\n",
       "3  768097619285536768  0.032333  0.850945  0.116722\n",
       "4  768097627686604801  0.008090  0.042331  0.949579"
      ]
     },
     "execution_count": 29,
     "metadata": {},
     "output_type": "execute_result"
    }
   ],
   "source": [
    "obj = s3.get_object(Bucket = 'rawdatatweets',Key = 'Data/t4sa_text_sentiment.tsv')\n",
    "\n",
    "# Load up tfsa labels, ignore encoding errors\n",
    "tfsa_df = pd.read_csv(obj['Body'], encoding='utf-8', encoding_errors='ignore', delimiter='\\t')\n",
    "\n",
    "tfsa_df.head()"
   ]
  },
  {
   "cell_type": "code",
   "execution_count": 30,
   "id": "f0f13805-8c4e-4337-8aa9-de4ac04df951",
   "metadata": {
    "tags": []
   },
   "outputs": [
    {
     "data": {
      "text/plain": [
       "(1179957, 4)"
      ]
     },
     "execution_count": 30,
     "metadata": {},
     "output_type": "execute_result"
    }
   ],
   "source": [
    "tfsa_df.shape"
   ]
  },
  {
   "cell_type": "code",
   "execution_count": 31,
   "id": "01e60ba9-55d4-46c7-bc6b-8d576d8d29f9",
   "metadata": {
    "tags": []
   },
   "outputs": [
    {
     "data": {
      "text/html": [
       "<div>\n",
       "<style scoped>\n",
       "    .dataframe tbody tr th:only-of-type {\n",
       "        vertical-align: middle;\n",
       "    }\n",
       "\n",
       "    .dataframe tbody tr th {\n",
       "        vertical-align: top;\n",
       "    }\n",
       "\n",
       "    .dataframe thead th {\n",
       "        text-align: right;\n",
       "    }\n",
       "</style>\n",
       "<table border=\"1\" class=\"dataframe\">\n",
       "  <thead>\n",
       "    <tr style=\"text-align: right;\">\n",
       "      <th></th>\n",
       "      <th>id</th>\n",
       "      <th>text</th>\n",
       "    </tr>\n",
       "  </thead>\n",
       "  <tbody>\n",
       "    <tr>\n",
       "      <th>0</th>\n",
       "      <td>758014713804587008</td>\n",
       "      <td>RT @polarcomic: And surprise! the #RegularShow...</td>\n",
       "    </tr>\n",
       "    <tr>\n",
       "      <th>1</th>\n",
       "      <td>758014717990428672</td>\n",
       "      <td>RT @SweetBabyBellB: My unproblematic fav who k...</td>\n",
       "    </tr>\n",
       "    <tr>\n",
       "      <th>2</th>\n",
       "      <td>758014646716665857</td>\n",
       "      <td>RT @WhyLarryIsReal: I mean we know harry isn't...</td>\n",
       "    </tr>\n",
       "    <tr>\n",
       "      <th>3</th>\n",
       "      <td>758014655071526912</td>\n",
       "      <td>RT @Eastbay: She's ready, resilient, and on ou...</td>\n",
       "    </tr>\n",
       "    <tr>\n",
       "      <th>4</th>\n",
       "      <td>758014642526429184</td>\n",
       "      <td>RT @SheeeRatchet: find someone who loves you a...</td>\n",
       "    </tr>\n",
       "  </tbody>\n",
       "</table>\n",
       "</div>"
      ],
      "text/plain": [
       "                   id                                               text\n",
       "0  758014713804587008  RT @polarcomic: And surprise! the #RegularShow...\n",
       "1  758014717990428672  RT @SweetBabyBellB: My unproblematic fav who k...\n",
       "2  758014646716665857  RT @WhyLarryIsReal: I mean we know harry isn't...\n",
       "3  758014655071526912  RT @Eastbay: She's ready, resilient, and on ou...\n",
       "4  758014642526429184  RT @SheeeRatchet: find someone who loves you a..."
      ]
     },
     "execution_count": 31,
     "metadata": {},
     "output_type": "execute_result"
    }
   ],
   "source": [
    "obj = s3.get_object(Bucket = 'rawdatatweets',Key = 'Data/raw_tweets_text.csv')\n",
    "\n",
    "# Load up tfsa tweets, ignore encoding errors\n",
    "tweets_df = pd.read_csv(obj['Body'], encoding='utf-8', encoding_errors='ignore')\n",
    "\n",
    "tweets_df.head()"
   ]
  },
  {
   "cell_type": "code",
   "execution_count": 32,
   "id": "9147c30d-f85b-4fa1-9ee8-817e953273f7",
   "metadata": {
    "tags": []
   },
   "outputs": [
    {
     "data": {
      "text/plain": [
       "(3452663, 2)"
      ]
     },
     "execution_count": 32,
     "metadata": {},
     "output_type": "execute_result"
    }
   ],
   "source": [
    "tweets_df.shape"
   ]
  },
  {
   "cell_type": "code",
   "execution_count": 33,
   "id": "c7ee2ab3-ab4b-439a-8cd8-2ecb539a6717",
   "metadata": {
    "tags": []
   },
   "outputs": [
    {
     "data": {
      "text/plain": [
       "(1179957, 6)"
      ]
     },
     "execution_count": 33,
     "metadata": {},
     "output_type": "execute_result"
    }
   ],
   "source": [
    "# Set ID as index of both dataframes\n",
    "tfsa_df.set_index('TWID')\n",
    "tweets_df.set_index('id')\n",
    "\n",
    "# Left join df's\n",
    "tfsa_joined_df = tfsa_df.join(tweets_df, how='left')\n",
    "tfsa_joined_df.shape"
   ]
  },
  {
   "cell_type": "code",
   "execution_count": 34,
   "id": "33deb508-0d1b-4f07-9ea7-0a13ff659409",
   "metadata": {
    "tags": []
   },
   "outputs": [],
   "source": [
    "# Delete df's from memory\n",
    "del tfsa_df\n",
    "del tweets_df"
   ]
  },
  {
   "cell_type": "code",
   "execution_count": 35,
   "id": "1ee4693d-0eed-423e-8e53-13fe8315e4cd",
   "metadata": {
    "tags": []
   },
   "outputs": [
    {
     "data": {
      "text/html": [
       "<div>\n",
       "<style scoped>\n",
       "    .dataframe tbody tr th:only-of-type {\n",
       "        vertical-align: middle;\n",
       "    }\n",
       "\n",
       "    .dataframe tbody tr th {\n",
       "        vertical-align: top;\n",
       "    }\n",
       "\n",
       "    .dataframe thead th {\n",
       "        text-align: right;\n",
       "    }\n",
       "</style>\n",
       "<table border=\"1\" class=\"dataframe\">\n",
       "  <thead>\n",
       "    <tr style=\"text-align: right;\">\n",
       "      <th></th>\n",
       "      <th>TWID</th>\n",
       "      <th>NEG</th>\n",
       "      <th>NEU</th>\n",
       "      <th>POS</th>\n",
       "      <th>id</th>\n",
       "      <th>text</th>\n",
       "    </tr>\n",
       "  </thead>\n",
       "  <tbody>\n",
       "    <tr>\n",
       "      <th>0</th>\n",
       "      <td>768096868504969216</td>\n",
       "      <td>0.049398</td>\n",
       "      <td>0.861395</td>\n",
       "      <td>0.089207</td>\n",
       "      <td>758014713804587008</td>\n",
       "      <td>RT @polarcomic: And surprise! the #RegularShow...</td>\n",
       "    </tr>\n",
       "    <tr>\n",
       "      <th>1</th>\n",
       "      <td>768097237620490241</td>\n",
       "      <td>0.028733</td>\n",
       "      <td>0.929554</td>\n",
       "      <td>0.041713</td>\n",
       "      <td>758014717990428672</td>\n",
       "      <td>RT @SweetBabyBellB: My unproblematic fav who k...</td>\n",
       "    </tr>\n",
       "    <tr>\n",
       "      <th>2</th>\n",
       "      <td>768097619281227776</td>\n",
       "      <td>0.006598</td>\n",
       "      <td>0.046810</td>\n",
       "      <td>0.946591</td>\n",
       "      <td>758014646716665857</td>\n",
       "      <td>RT @WhyLarryIsReal: I mean we know harry isn't...</td>\n",
       "    </tr>\n",
       "    <tr>\n",
       "      <th>3</th>\n",
       "      <td>768097619285536768</td>\n",
       "      <td>0.032333</td>\n",
       "      <td>0.850945</td>\n",
       "      <td>0.116722</td>\n",
       "      <td>758014655071526912</td>\n",
       "      <td>RT @Eastbay: She's ready, resilient, and on ou...</td>\n",
       "    </tr>\n",
       "    <tr>\n",
       "      <th>4</th>\n",
       "      <td>768097627686604801</td>\n",
       "      <td>0.008090</td>\n",
       "      <td>0.042331</td>\n",
       "      <td>0.949579</td>\n",
       "      <td>758014642526429184</td>\n",
       "      <td>RT @SheeeRatchet: find someone who loves you a...</td>\n",
       "    </tr>\n",
       "  </tbody>\n",
       "</table>\n",
       "</div>"
      ],
      "text/plain": [
       "                 TWID       NEG       NEU       POS                  id  \\\n",
       "0  768096868504969216  0.049398  0.861395  0.089207  758014713804587008   \n",
       "1  768097237620490241  0.028733  0.929554  0.041713  758014717990428672   \n",
       "2  768097619281227776  0.006598  0.046810  0.946591  758014646716665857   \n",
       "3  768097619285536768  0.032333  0.850945  0.116722  758014655071526912   \n",
       "4  768097627686604801  0.008090  0.042331  0.949579  758014642526429184   \n",
       "\n",
       "                                                text  \n",
       "0  RT @polarcomic: And surprise! the #RegularShow...  \n",
       "1  RT @SweetBabyBellB: My unproblematic fav who k...  \n",
       "2  RT @WhyLarryIsReal: I mean we know harry isn't...  \n",
       "3  RT @Eastbay: She's ready, resilient, and on ou...  \n",
       "4  RT @SheeeRatchet: find someone who loves you a...  "
      ]
     },
     "execution_count": 35,
     "metadata": {},
     "output_type": "execute_result"
    }
   ],
   "source": [
    "tfsa_joined_df.head(5)"
   ]
  },
  {
   "cell_type": "code",
   "execution_count": 36,
   "id": "0b476240-4dce-4e1c-a700-93defcc28bc3",
   "metadata": {
    "tags": []
   },
   "outputs": [
    {
     "data": {
      "text/html": [
       "<div>\n",
       "<style scoped>\n",
       "    .dataframe tbody tr th:only-of-type {\n",
       "        vertical-align: middle;\n",
       "    }\n",
       "\n",
       "    .dataframe tbody tr th {\n",
       "        vertical-align: top;\n",
       "    }\n",
       "\n",
       "    .dataframe thead th {\n",
       "        text-align: right;\n",
       "    }\n",
       "</style>\n",
       "<table border=\"1\" class=\"dataframe\">\n",
       "  <thead>\n",
       "    <tr style=\"text-align: right;\">\n",
       "      <th></th>\n",
       "      <th>TWID</th>\n",
       "      <th>NEG</th>\n",
       "      <th>NEU</th>\n",
       "      <th>POS</th>\n",
       "      <th>id</th>\n",
       "      <th>text</th>\n",
       "      <th>sentiment</th>\n",
       "      <th>confidence</th>\n",
       "    </tr>\n",
       "  </thead>\n",
       "  <tbody>\n",
       "    <tr>\n",
       "      <th>0</th>\n",
       "      <td>768096868504969216</td>\n",
       "      <td>0.049398</td>\n",
       "      <td>0.861395</td>\n",
       "      <td>0.089207</td>\n",
       "      <td>758014713804587008</td>\n",
       "      <td>RT @polarcomic: And surprise! the #RegularShow...</td>\n",
       "      <td>NEU</td>\n",
       "      <td>0.861395</td>\n",
       "    </tr>\n",
       "    <tr>\n",
       "      <th>1</th>\n",
       "      <td>768097237620490241</td>\n",
       "      <td>0.028733</td>\n",
       "      <td>0.929554</td>\n",
       "      <td>0.041713</td>\n",
       "      <td>758014717990428672</td>\n",
       "      <td>RT @SweetBabyBellB: My unproblematic fav who k...</td>\n",
       "      <td>NEU</td>\n",
       "      <td>0.929554</td>\n",
       "    </tr>\n",
       "    <tr>\n",
       "      <th>2</th>\n",
       "      <td>768097619281227776</td>\n",
       "      <td>0.006598</td>\n",
       "      <td>0.046810</td>\n",
       "      <td>0.946591</td>\n",
       "      <td>758014646716665857</td>\n",
       "      <td>RT @WhyLarryIsReal: I mean we know harry isn't...</td>\n",
       "      <td>POS</td>\n",
       "      <td>0.946591</td>\n",
       "    </tr>\n",
       "    <tr>\n",
       "      <th>3</th>\n",
       "      <td>768097619285536768</td>\n",
       "      <td>0.032333</td>\n",
       "      <td>0.850945</td>\n",
       "      <td>0.116722</td>\n",
       "      <td>758014655071526912</td>\n",
       "      <td>RT @Eastbay: She's ready, resilient, and on ou...</td>\n",
       "      <td>NEU</td>\n",
       "      <td>0.850945</td>\n",
       "    </tr>\n",
       "    <tr>\n",
       "      <th>4</th>\n",
       "      <td>768097627686604801</td>\n",
       "      <td>0.008090</td>\n",
       "      <td>0.042331</td>\n",
       "      <td>0.949579</td>\n",
       "      <td>758014642526429184</td>\n",
       "      <td>RT @SheeeRatchet: find someone who loves you a...</td>\n",
       "      <td>POS</td>\n",
       "      <td>0.949579</td>\n",
       "    </tr>\n",
       "  </tbody>\n",
       "</table>\n",
       "</div>"
      ],
      "text/plain": [
       "                 TWID       NEG       NEU       POS                  id  \\\n",
       "0  768096868504969216  0.049398  0.861395  0.089207  758014713804587008   \n",
       "1  768097237620490241  0.028733  0.929554  0.041713  758014717990428672   \n",
       "2  768097619281227776  0.006598  0.046810  0.946591  758014646716665857   \n",
       "3  768097619285536768  0.032333  0.850945  0.116722  758014655071526912   \n",
       "4  768097627686604801  0.008090  0.042331  0.949579  758014642526429184   \n",
       "\n",
       "                                                text sentiment  confidence  \n",
       "0  RT @polarcomic: And surprise! the #RegularShow...       NEU    0.861395  \n",
       "1  RT @SweetBabyBellB: My unproblematic fav who k...       NEU    0.929554  \n",
       "2  RT @WhyLarryIsReal: I mean we know harry isn't...       POS    0.946591  \n",
       "3  RT @Eastbay: She's ready, resilient, and on ou...       NEU    0.850945  \n",
       "4  RT @SheeeRatchet: find someone who loves you a...       POS    0.949579  "
      ]
     },
     "execution_count": 36,
     "metadata": {},
     "output_type": "execute_result"
    }
   ],
   "source": [
    "# Get sentiment from max of label columns, which list the confidence in each category\n",
    "tfsa_joined_df['sentiment'] = tfsa_joined_df[['NEG', 'NEU', 'POS']].idxmax(axis=1)\n",
    "\n",
    "# Get confidence level for each label\n",
    "tfsa_joined_df['confidence'] = tfsa_joined_df[['NEG', 'NEU', 'POS']].max(axis=1)\n",
    "\n",
    "tfsa_joined_df.head()"
   ]
  },
  {
   "cell_type": "code",
   "execution_count": 37,
   "id": "7947e69d-6097-46cf-aa73-a0242647fb1b",
   "metadata": {
    "tags": []
   },
   "outputs": [
    {
     "name": "stdout",
     "output_type": "stream",
     "text": [
      "<class 'pandas.core.frame.DataFrame'>\n",
      "RangeIndex: 1179957 entries, 0 to 1179956\n",
      "Data columns (total 3 columns):\n",
      " #   Column      Non-Null Count    Dtype  \n",
      "---  ------      --------------    -----  \n",
      " 0   sentiment   1179957 non-null  int64  \n",
      " 1   confidence  1179957 non-null  float64\n",
      " 2   tweet       1179957 non-null  object \n",
      "dtypes: float64(1), int64(1), object(1)\n",
      "memory usage: 27.0+ MB\n"
     ]
    }
   ],
   "source": [
    "# Drop all cols except sentiment, confidence and tweet\n",
    "tfsa_joined_df = tfsa_joined_df[['sentiment', 'confidence', 'text']]\n",
    "\n",
    "# Rename cols\n",
    "tfsa_joined_df.rename(columns={'text':'tweet'}, inplace=True)\n",
    "\n",
    "# Replace sentiment labels\n",
    "tfsa_joined_df.sentiment.replace(['NEG', 'NEU', 'POS'],[0, 1, 2], inplace=True)\n",
    "\n",
    "# Recast sentiment as integer\n",
    "tfsa_joined_df.sentiment = tfsa_joined_df.sentiment.astype('int')\n",
    "\n",
    "# Inspect\n",
    "tfsa_joined_df.info()"
   ]
  },
  {
   "cell_type": "code",
   "execution_count": 38,
   "id": "ca1c6379-07b9-4823-b556-1f94919e1864",
   "metadata": {
    "tags": []
   },
   "outputs": [
    {
     "data": {
      "text/plain": [
       "1    629566\n",
       "2    371341\n",
       "0    179050\n",
       "Name: sentiment, dtype: int64"
      ]
     },
     "execution_count": 38,
     "metadata": {},
     "output_type": "execute_result"
    }
   ],
   "source": [
    "tfsa_joined_df.sentiment.value_counts(dropna=False)"
   ]
  },
  {
   "cell_type": "code",
   "execution_count": 39,
   "id": "bc1aefcf-1294-42d3-ac0b-8247518bca9c",
   "metadata": {
    "tags": []
   },
   "outputs": [
    {
     "data": {
      "image/png": "[encoded data removed]",
      "text/plain": [
       "<Figure size 640x480 with 1 Axes>"
      ]
     },
     "metadata": {},
     "output_type": "display_data"
    }
   ],
   "source": [
    "# Bar plot\n",
    "sns.barplot(x = tfsa_joined_df.sentiment.value_counts().index, \n",
    "            y = tfsa_joined_df.sentiment.value_counts().values);"
   ]
  },
  {
   "cell_type": "code",
   "execution_count": 40,
   "id": "e73a77c3-673e-4f86-968a-3a84fbcdd339",
   "metadata": {
    "tags": []
   },
   "outputs": [
    {
     "data": {
      "text/html": [
       "<div>\n",
       "<style scoped>\n",
       "    .dataframe tbody tr th:only-of-type {\n",
       "        vertical-align: middle;\n",
       "    }\n",
       "\n",
       "    .dataframe tbody tr th {\n",
       "        vertical-align: top;\n",
       "    }\n",
       "\n",
       "    .dataframe thead th {\n",
       "        text-align: right;\n",
       "    }\n",
       "</style>\n",
       "<table border=\"1\" class=\"dataframe\">\n",
       "  <thead>\n",
       "    <tr style=\"text-align: right;\">\n",
       "      <th></th>\n",
       "      <th>sentiment</th>\n",
       "      <th>confidence</th>\n",
       "      <th>tweet</th>\n",
       "    </tr>\n",
       "  </thead>\n",
       "  <tbody>\n",
       "    <tr>\n",
       "      <th>0</th>\n",
       "      <td>1</td>\n",
       "      <td>0.861395</td>\n",
       "      <td>RT @polarcomic: And surprise! the #RegularShow...</td>\n",
       "    </tr>\n",
       "    <tr>\n",
       "      <th>1</th>\n",
       "      <td>1</td>\n",
       "      <td>0.929554</td>\n",
       "      <td>RT @SweetBabyBellB: My unproblematic fav who k...</td>\n",
       "    </tr>\n",
       "    <tr>\n",
       "      <th>2</th>\n",
       "      <td>2</td>\n",
       "      <td>0.946591</td>\n",
       "      <td>RT @WhyLarryIsReal: I mean we know harry isn't...</td>\n",
       "    </tr>\n",
       "    <tr>\n",
       "      <th>3</th>\n",
       "      <td>1</td>\n",
       "      <td>0.850945</td>\n",
       "      <td>RT @Eastbay: She's ready, resilient, and on ou...</td>\n",
       "    </tr>\n",
       "    <tr>\n",
       "      <th>4</th>\n",
       "      <td>2</td>\n",
       "      <td>0.949579</td>\n",
       "      <td>RT @SheeeRatchet: find someone who loves you a...</td>\n",
       "    </tr>\n",
       "  </tbody>\n",
       "</table>\n",
       "</div>"
      ],
      "text/plain": [
       "   sentiment  confidence                                              tweet\n",
       "0          1    0.861395  RT @polarcomic: And surprise! the #RegularShow...\n",
       "1          1    0.929554  RT @SweetBabyBellB: My unproblematic fav who k...\n",
       "2          2    0.946591  RT @WhyLarryIsReal: I mean we know harry isn't...\n",
       "3          1    0.850945  RT @Eastbay: She's ready, resilient, and on ou...\n",
       "4          2    0.949579  RT @SheeeRatchet: find someone who loves you a..."
      ]
     },
     "execution_count": 40,
     "metadata": {},
     "output_type": "execute_result"
    }
   ],
   "source": [
    "tfsa_joined_df.head()"
   ]
  },
  {
   "cell_type": "markdown",
   "id": "d36d1adc-08b9-4e89-97c0-5f7c59163499",
   "metadata": {},
   "source": [
    "## Combine Them All"
   ]
  },
  {
   "cell_type": "markdown",
   "id": "ec92e0fb-5098-4367-88d0-46f6c09269a4",
   "metadata": {},
   "source": [
    "First, let's see what our data would look like with every tweet included."
   ]
  },
  {
   "cell_type": "code",
   "execution_count": 41,
   "id": "316a6685-d7c0-4e7d-a480-15185cc725db",
   "metadata": {},
   "outputs": [
    {
     "data": {
      "text/html": [
       "<div>\n",
       "<style scoped>\n",
       "    .dataframe tbody tr th:only-of-type {\n",
       "        vertical-align: middle;\n",
       "    }\n",
       "\n",
       "    .dataframe tbody tr th {\n",
       "        vertical-align: top;\n",
       "    }\n",
       "\n",
       "    .dataframe thead th {\n",
       "        text-align: right;\n",
       "    }\n",
       "</style>\n",
       "<table border=\"1\" class=\"dataframe\">\n",
       "  <thead>\n",
       "    <tr style=\"text-align: right;\">\n",
       "      <th></th>\n",
       "      <th>sentiment</th>\n",
       "      <th>confidence</th>\n",
       "      <th>tweet</th>\n",
       "    </tr>\n",
       "  </thead>\n",
       "  <tbody>\n",
       "    <tr>\n",
       "      <th>0</th>\n",
       "      <td>1</td>\n",
       "      <td>1.0000</td>\n",
       "      <td>@VirginAmerica What @dhepburn said.</td>\n",
       "    </tr>\n",
       "    <tr>\n",
       "      <th>1</th>\n",
       "      <td>2</td>\n",
       "      <td>0.3486</td>\n",
       "      <td>@VirginAmerica plus you've added commercials t...</td>\n",
       "    </tr>\n",
       "    <tr>\n",
       "      <th>2</th>\n",
       "      <td>1</td>\n",
       "      <td>0.6837</td>\n",
       "      <td>@VirginAmerica I didn't today... Must mean I n...</td>\n",
       "    </tr>\n",
       "    <tr>\n",
       "      <th>3</th>\n",
       "      <td>0</td>\n",
       "      <td>1.0000</td>\n",
       "      <td>@VirginAmerica it's really aggressive to blast...</td>\n",
       "    </tr>\n",
       "    <tr>\n",
       "      <th>4</th>\n",
       "      <td>0</td>\n",
       "      <td>1.0000</td>\n",
       "      <td>@VirginAmerica and it's a really big bad thing...</td>\n",
       "    </tr>\n",
       "  </tbody>\n",
       "</table>\n",
       "</div>"
      ],
      "text/plain": [
       "   sentiment  confidence                                              tweet\n",
       "0          1      1.0000                @VirginAmerica What @dhepburn said.\n",
       "1          2      0.3486  @VirginAmerica plus you've added commercials t...\n",
       "2          1      0.6837  @VirginAmerica I didn't today... Must mean I n...\n",
       "3          0      1.0000  @VirginAmerica it's really aggressive to blast...\n",
       "4          0      1.0000  @VirginAmerica and it's a really big bad thing..."
      ]
     },
     "execution_count": 41,
     "metadata": {},
     "output_type": "execute_result"
    }
   ],
   "source": [
    "combined_df = pd.concat([airline_df, apple_df, tfsa_joined_df, kaggle_df], ignore_index=True)\n",
    "\n",
    "combined_df.head()"
   ]
  },
  {
   "cell_type": "code",
   "execution_count": 42,
   "id": "946f6a4f-963a-453f-9874-454626e85ba7",
   "metadata": {
    "tags": []
   },
   "outputs": [
    {
     "data": {
      "text/plain": [
       "(2798401, 3)"
      ]
     },
     "execution_count": 42,
     "metadata": {},
     "output_type": "execute_result"
    }
   ],
   "source": [
    "combined_df.shape"
   ]
  },
  {
   "cell_type": "code",
   "execution_count": 43,
   "id": "6357ee06-7534-418c-88d8-cab3694ee87c",
   "metadata": {
    "tags": []
   },
   "outputs": [
    {
     "data": {
      "image/png": "[encoded data removed]",
      "text/plain": [
       "<Figure size 640x480 with 1 Axes>"
      ]
     },
     "metadata": {},
     "output_type": "display_data"
    }
   ],
   "source": [
    "# Bar plot\n",
    "sns.barplot(x = combined_df.sentiment.value_counts().index, \n",
    "            y = combined_df.sentiment.value_counts().values);"
   ]
  },
  {
   "cell_type": "markdown",
   "id": "3b3c9579-f7e6-424f-a710-4cc6ae841c9b",
   "metadata": {},
   "source": [
    "Now let's try removing the kaggle data and keeping only tweets whose confidence level is above 60%."
   ]
  },
  {
   "cell_type": "code",
   "execution_count": 50,
   "id": "9f0b7dc6-805b-4e63-8048-e761f2002543",
   "metadata": {
    "tags": []
   },
   "outputs": [
    {
     "data": {
      "text/html": [
       "<div>\n",
       "<style scoped>\n",
       "    .dataframe tbody tr th:only-of-type {\n",
       "        vertical-align: middle;\n",
       "    }\n",
       "\n",
       "    .dataframe tbody tr th {\n",
       "        vertical-align: top;\n",
       "    }\n",
       "\n",
       "    .dataframe thead th {\n",
       "        text-align: right;\n",
       "    }\n",
       "</style>\n",
       "<table border=\"1\" class=\"dataframe\">\n",
       "  <thead>\n",
       "    <tr style=\"text-align: right;\">\n",
       "      <th></th>\n",
       "      <th>sentiment</th>\n",
       "      <th>confidence</th>\n",
       "      <th>tweet</th>\n",
       "    </tr>\n",
       "  </thead>\n",
       "  <tbody>\n",
       "    <tr>\n",
       "      <th>0</th>\n",
       "      <td>1</td>\n",
       "      <td>1.0000</td>\n",
       "      <td>@VirginAmerica What @dhepburn said.</td>\n",
       "    </tr>\n",
       "    <tr>\n",
       "      <th>2</th>\n",
       "      <td>1</td>\n",
       "      <td>0.6837</td>\n",
       "      <td>@VirginAmerica I didn't today... Must mean I n...</td>\n",
       "    </tr>\n",
       "    <tr>\n",
       "      <th>3</th>\n",
       "      <td>0</td>\n",
       "      <td>1.0000</td>\n",
       "      <td>@VirginAmerica it's really aggressive to blast...</td>\n",
       "    </tr>\n",
       "    <tr>\n",
       "      <th>4</th>\n",
       "      <td>0</td>\n",
       "      <td>1.0000</td>\n",
       "      <td>@VirginAmerica and it's a really big bad thing...</td>\n",
       "    </tr>\n",
       "    <tr>\n",
       "      <th>5</th>\n",
       "      <td>0</td>\n",
       "      <td>1.0000</td>\n",
       "      <td>@VirginAmerica seriously would pay $30 a fligh...</td>\n",
       "    </tr>\n",
       "  </tbody>\n",
       "</table>\n",
       "</div>"
      ],
      "text/plain": [
       "   sentiment  confidence                                              tweet\n",
       "0          1      1.0000                @VirginAmerica What @dhepburn said.\n",
       "2          1      0.6837  @VirginAmerica I didn't today... Must mean I n...\n",
       "3          0      1.0000  @VirginAmerica it's really aggressive to blast...\n",
       "4          0      1.0000  @VirginAmerica and it's a really big bad thing...\n",
       "5          0      1.0000  @VirginAmerica seriously would pay $30 a fligh..."
      ]
     },
     "execution_count": 50,
     "metadata": {},
     "output_type": "execute_result"
    }
   ],
   "source": [
    "filtered_df = pd.concat([airline_df, apple_df, tfsa_joined_df], ignore_index=True)\n",
    "\n",
    "filtered_df = filtered_df[filtered_df['confidence'] >= 0.5]\n",
    "\n",
    "filtered_df.head()"
   ]
  },
  {
   "cell_type": "code",
   "execution_count": 51,
   "id": "4ec7c3e1-0074-43ed-8d26-db7f7ffde2aa",
   "metadata": {
    "tags": []
   },
   "outputs": [
    {
     "data": {
      "text/plain": [
       "(1169533, 3)"
      ]
     },
     "execution_count": 51,
     "metadata": {},
     "output_type": "execute_result"
    }
   ],
   "source": [
    "filtered_df.shape"
   ]
  },
  {
   "cell_type": "code",
   "execution_count": 52,
   "id": "48cf6fc6-88fc-4fa2-8b4b-b79bcfebaa3a",
   "metadata": {
    "tags": []
   },
   "outputs": [
    {
     "data": {
      "image/png": "[encoded data removed]",
      "text/plain": [
       "<Figure size 640x480 with 1 Axes>"
      ]
     },
     "metadata": {},
     "output_type": "display_data"
    }
   ],
   "source": [
    "# Bar plot\n",
    "sns.barplot(x = filtered_df.sentiment.value_counts().index, \n",
    "            y = filtered_df.sentiment.value_counts().values);"
   ]
  },
  {
   "cell_type": "markdown",
   "id": "736eee71-963c-4327-87d6-33530d587bbe",
   "metadata": {},
   "source": [
    "Not enough negative tweets making it through that filter. We prefer the target distribution of the entire data set, so we'll go with that one. Let's save it down to pull into our next notebook."
   ]
  },
  {
   "cell_type": "code",
   "execution_count": 47,
   "id": "70651ae3-4b14-446e-969e-11ec66920800",
   "metadata": {
    "tags": []
   },
   "outputs": [
    {
     "data": {
      "text/html": [
       "<div>\n",
       "<style scoped>\n",
       "    .dataframe tbody tr th:only-of-type {\n",
       "        vertical-align: middle;\n",
       "    }\n",
       "\n",
       "    .dataframe tbody tr th {\n",
       "        vertical-align: top;\n",
       "    }\n",
       "\n",
       "    .dataframe thead th {\n",
       "        text-align: right;\n",
       "    }\n",
       "</style>\n",
       "<table border=\"1\" class=\"dataframe\">\n",
       "  <thead>\n",
       "    <tr style=\"text-align: right;\">\n",
       "      <th></th>\n",
       "      <th>sentiment</th>\n",
       "      <th>tweet</th>\n",
       "    </tr>\n",
       "  </thead>\n",
       "  <tbody>\n",
       "    <tr>\n",
       "      <th>0</th>\n",
       "      <td>1</td>\n",
       "      <td>@VirginAmerica What @dhepburn said.</td>\n",
       "    </tr>\n",
       "    <tr>\n",
       "      <th>1</th>\n",
       "      <td>2</td>\n",
       "      <td>@VirginAmerica plus you've added commercials t...</td>\n",
       "    </tr>\n",
       "    <tr>\n",
       "      <th>2</th>\n",
       "      <td>1</td>\n",
       "      <td>@VirginAmerica I didn't today... Must mean I n...</td>\n",
       "    </tr>\n",
       "    <tr>\n",
       "      <th>3</th>\n",
       "      <td>0</td>\n",
       "      <td>@VirginAmerica it's really aggressive to blast...</td>\n",
       "    </tr>\n",
       "    <tr>\n",
       "      <th>4</th>\n",
       "      <td>0</td>\n",
       "      <td>@VirginAmerica and it's a really big bad thing...</td>\n",
       "    </tr>\n",
       "  </tbody>\n",
       "</table>\n",
       "</div>"
      ],
      "text/plain": [
       "   sentiment                                              tweet\n",
       "0          1                @VirginAmerica What @dhepburn said.\n",
       "1          2  @VirginAmerica plus you've added commercials t...\n",
       "2          1  @VirginAmerica I didn't today... Must mean I n...\n",
       "3          0  @VirginAmerica it's really aggressive to blast...\n",
       "4          0  @VirginAmerica and it's a really big bad thing..."
      ]
     },
     "execution_count": 47,
     "metadata": {},
     "output_type": "execute_result"
    }
   ],
   "source": [
    "combined_df = combined_df[['sentiment', 'tweet']]\n",
    "\n",
    "combined_df.head()"
   ]
  },
  {
   "cell_type": "code",
   "execution_count": 48,
   "id": "657906d3-2169-403d-8b28-d6d8bbcb32ec",
   "metadata": {
    "tags": []
   },
   "outputs": [],
   "source": [
    "# Write df to csv\n",
    "combined_df.to_csv('../data/combined_data.csv')\n",
    "\n",
    "# Upload file to s3\n",
    "# s3 = boto3.resource('s3')\n",
    "# s3.meta.client.upload_file('../data/combined_data', 'rawdatatweets', 'combined_data')"
   ]
  }
 ],
 "metadata": {
  "availableInstances": [
   {
    "_defaultOrder": 0,
    "_isFastLaunch": true,
    "category": "General purpose",
    "gpuNum": 0,
    "hideHardwareSpecs": false,
    "memoryGiB": 4,
    "name": "ml.t3.medium",
    "vcpuNum": 2
   },
   {
    "_defaultOrder": 1,
    "_isFastLaunch": false,
    "category": "General purpose",
    "gpuNum": 0,
    "hideHardwareSpecs": false,
    "memoryGiB": 8,
    "name": "ml.t3.large",
    "vcpuNum": 2
   },
   {
    "_defaultOrder": 2,
    "_isFastLaunch": false,
    "category": "General purpose",
    "gpuNum": 0,
    "hideHardwareSpecs": false,
    "memoryGiB": 16,
    "name": "ml.t3.xlarge",
    "vcpuNum": 4
   },
   {
    "_defaultOrder": 3,
    "_isFastLaunch": false,
    "category": "General purpose",
    "gpuNum": 0,
    "hideHardwareSpecs": false,
    "memoryGiB": 32,
    "name": "ml.t3.2xlarge",
    "vcpuNum": 8
   },
   {
    "_defaultOrder": 4,
    "_isFastLaunch": true,
    "category": "General purpose",
    "gpuNum": 0,
    "hideHardwareSpecs": false,
    "memoryGiB": 8,
    "name": "ml.m5.large",
    "vcpuNum": 2
   },
   {
    "_defaultOrder": 5,
    "_isFastLaunch": false,
    "category": "General purpose",
    "gpuNum": 0,
    "hideHardwareSpecs": false,
    "memoryGiB": 16,
    "name": "ml.m5.xlarge",
    "vcpuNum": 4
   },
   {
    "_defaultOrder": 6,
    "_isFastLaunch": false,
    "category": "General purpose",
    "gpuNum": 0,
    "hideHardwareSpecs": false,
    "memoryGiB": 32,
    "name": "ml.m5.2xlarge",
    "vcpuNum": 8
   },
   {
    "_defaultOrder": 7,
    "_isFastLaunch": false,
    "category": "General purpose",
    "gpuNum": 0,
    "hideHardwareSpecs": false,
    "memoryGiB": 64,
    "name": "ml.m5.4xlarge",
    "vcpuNum": 16
   },
   {
    "_defaultOrder": 8,
    "_isFastLaunch": false,
    "category": "General purpose",
    "gpuNum": 0,
    "hideHardwareSpecs": false,
    "memoryGiB": 128,
    "name": "ml.m5.8xlarge",
    "vcpuNum": 32
   },
   {
    "_defaultOrder": 9,
    "_isFastLaunch": false,
    "category": "General purpose",
    "gpuNum": 0,
    "hideHardwareSpecs": false,
    "memoryGiB": 192,
    "name": "ml.m5.12xlarge",
    "vcpuNum": 48
   },
   {
    "_defaultOrder": 10,
    "_isFastLaunch": false,
    "category": "General purpose",
    "gpuNum": 0,
    "hideHardwareSpecs": false,
    "memoryGiB": 256,
    "name": "ml.m5.16xlarge",
    "vcpuNum": 64
   },
   {
    "_defaultOrder": 11,
    "_isFastLaunch": false,
    "category": "General purpose",
    "gpuNum": 0,
    "hideHardwareSpecs": false,
    "memoryGiB": 384,
    "name": "ml.m5.24xlarge",
    "vcpuNum": 96
   },
   {
    "_defaultOrder": 12,
    "_isFastLaunch": false,
    "category": "General purpose",
    "gpuNum": 0,
    "hideHardwareSpecs": false,
    "memoryGiB": 8,
    "name": "ml.m5d.large",
    "vcpuNum": 2
   },
   {
    "_defaultOrder": 13,
    "_isFastLaunch": false,
    "category": "General purpose",
    "gpuNum": 0,
    "hideHardwareSpecs": false,
    "memoryGiB": 16,
    "name": "ml.m5d.xlarge",
    "vcpuNum": 4
   },
   {
    "_defaultOrder": 14,
    "_isFastLaunch": false,
    "category": "General purpose",
    "gpuNum": 0,
    "hideHardwareSpecs": false,
    "memoryGiB": 32,
    "name": "ml.m5d.2xlarge",
    "vcpuNum": 8
   },
   {
    "_defaultOrder": 15,
    "_isFastLaunch": false,
    "category": "General purpose",
    "gpuNum": 0,
    "hideHardwareSpecs": false,
    "memoryGiB": 64,
    "name": "ml.m5d.4xlarge",
    "vcpuNum": 16
   },
   {
    "_defaultOrder": 16,
    "_isFastLaunch": false,
    "category": "General purpose",
    "gpuNum": 0,
    "hideHardwareSpecs": false,
    "memoryGiB": 128,
    "name": "ml.m5d.8xlarge",
    "vcpuNum": 32
   },
   {
    "_defaultOrder": 17,
    "_isFastLaunch": false,
    "category": "General purpose",
    "gpuNum": 0,
    "hideHardwareSpecs": false,
    "memoryGiB": 192,
    "name": "ml.m5d.12xlarge",
    "vcpuNum": 48
   },
   {
    "_defaultOrder": 18,
    "_isFastLaunch": false,
    "category": "General purpose",
    "gpuNum": 0,
    "hideHardwareSpecs": false,
    "memoryGiB": 256,
    "name": "ml.m5d.16xlarge",
    "vcpuNum": 64
   },
   {
    "_defaultOrder": 19,
    "_isFastLaunch": false,
    "category": "General purpose",
    "gpuNum": 0,
    "hideHardwareSpecs": false,
    "memoryGiB": 384,
    "name": "ml.m5d.24xlarge",
    "vcpuNum": 96
   },
   {
    "_defaultOrder": 20,
    "_isFastLaunch": false,
    "category": "General purpose",
    "gpuNum": 0,
    "hideHardwareSpecs": true,
    "memoryGiB": 0,
    "name": "ml.geospatial.interactive",
    "supportedImageNames": [
     "sagemaker-geospatial-v1-0"
    ],
    "vcpuNum": 0
   },
   {
    "_defaultOrder": 21,
    "_isFastLaunch": true,
    "category": "Compute optimized",
    "gpuNum": 0,
    "hideHardwareSpecs": false,
    "memoryGiB": 4,
    "name": "ml.c5.large",
    "vcpuNum": 2
   },
   {
    "_defaultOrder": 22,
    "_isFastLaunch": false,
    "category": "Compute optimized",
    "gpuNum": 0,
    "hideHardwareSpecs": false,
    "memoryGiB": 8,
    "name": "ml.c5.xlarge",
    "vcpuNum": 4
   },
   {
    "_defaultOrder": 23,
    "_isFastLaunch": false,
    "category": "Compute optimized",
    "gpuNum": 0,
    "hideHardwareSpecs": false,
    "memoryGiB": 16,
    "name": "ml.c5.2xlarge",
    "vcpuNum": 8
   },
   {
    "_defaultOrder": 24,
    "_isFastLaunch": false,
    "category": "Compute optimized",
    "gpuNum": 0,
    "hideHardwareSpecs": false,
    "memoryGiB": 32,
    "name": "ml.c5.4xlarge",
    "vcpuNum": 16
   },
   {
    "_defaultOrder": 25,
    "_isFastLaunch": false,
    "category": "Compute optimized",
    "gpuNum": 0,
    "hideHardwareSpecs": false,
    "memoryGiB": 72,
    "name": "ml.c5.9xlarge",
    "vcpuNum": 36
   },
   {
    "_defaultOrder": 26,
    "_isFastLaunch": false,
    "category": "Compute optimized",
    "gpuNum": 0,
    "hideHardwareSpecs": false,
    "memoryGiB": 96,
    "name": "ml.c5.12xlarge",
    "vcpuNum": 48
   },
   {
    "_defaultOrder": 27,
    "_isFastLaunch": false,
    "category": "Compute optimized",
    "gpuNum": 0,
    "hideHardwareSpecs": false,
    "memoryGiB": 144,
    "name": "ml.c5.18xlarge",
    "vcpuNum": 72
   },
   {
    "_defaultOrder": 28,
    "_isFastLaunch": false,
    "category": "Compute optimized",
    "gpuNum": 0,
    "hideHardwareSpecs": false,
    "memoryGiB": 192,
    "name": "ml.c5.24xlarge",
    "vcpuNum": 96
   },
   {
    "_defaultOrder": 29,
    "_isFastLaunch": true,
    "category": "Accelerated computing",
    "gpuNum": 1,
    "hideHardwareSpecs": false,
    "memoryGiB": 16,
    "name": "ml.g4dn.xlarge",
    "vcpuNum": 4
   },
   {
    "_defaultOrder": 30,
    "_isFastLaunch": false,
    "category": "Accelerated computing",
    "gpuNum": 1,
    "hideHardwareSpecs": false,
    "memoryGiB": 32,
    "name": "ml.g4dn.2xlarge",
    "vcpuNum": 8
   },
   {
    "_defaultOrder": 31,
    "_isFastLaunch": false,
    "category": "Accelerated computing",
    "gpuNum": 1,
    "hideHardwareSpecs": false,
    "memoryGiB": 64,
    "name": "ml.g4dn.4xlarge",
    "vcpuNum": 16
   },
   {
    "_defaultOrder": 32,
    "_isFastLaunch": false,
    "category": "Accelerated computing",
    "gpuNum": 1,
    "hideHardwareSpecs": false,
    "memoryGiB": 128,
    "name": "ml.g4dn.8xlarge",
    "vcpuNum": 32
   },
   {
    "_defaultOrder": 33,
    "_isFastLaunch": false,
    "category": "Accelerated computing",
    "gpuNum": 4,
    "hideHardwareSpecs": false,
    "memoryGiB": 192,
    "name": "ml.g4dn.12xlarge",
    "vcpuNum": 48
   },
   {
    "_defaultOrder": 34,
    "_isFastLaunch": false,
    "category": "Accelerated computing",
    "gpuNum": 1,
    "hideHardwareSpecs": false,
    "memoryGiB": 256,
    "name": "ml.g4dn.16xlarge",
    "vcpuNum": 64
   },
   {
    "_defaultOrder": 35,
    "_isFastLaunch": false,
    "category": "Accelerated computing",
    "gpuNum": 1,
    "hideHardwareSpecs": false,
    "memoryGiB": 61,
    "name": "ml.p3.2xlarge",
    "vcpuNum": 8
   },
   {
    "_defaultOrder": 36,
    "_isFastLaunch": false,
    "category": "Accelerated computing",
    "gpuNum": 4,
    "hideHardwareSpecs": false,
    "memoryGiB": 244,
    "name": "ml.p3.8xlarge",
    "vcpuNum": 32
   },
   {
    "_defaultOrder": 37,
    "_isFastLaunch": false,
    "category": "Accelerated computing",
    "gpuNum": 8,
    "hideHardwareSpecs": false,
    "memoryGiB": 488,
    "name": "ml.p3.16xlarge",
    "vcpuNum": 64
   },
   {
    "_defaultOrder": 38,
    "_isFastLaunch": false,
    "category": "Accelerated computing",
    "gpuNum": 8,
    "hideHardwareSpecs": false,
    "memoryGiB": 768,
    "name": "ml.p3dn.24xlarge",
    "vcpuNum": 96
   },
   {
    "_defaultOrder": 39,
    "_isFastLaunch": false,
    "category": "Memory Optimized",
    "gpuNum": 0,
    "hideHardwareSpecs": false,
    "memoryGiB": 16,
    "name": "ml.r5.large",
    "vcpuNum": 2
   },
   {
    "_defaultOrder": 40,
    "_isFastLaunch": false,
    "category": "Memory Optimized",
    "gpuNum": 0,
    "hideHardwareSpecs": false,
    "memoryGiB": 32,
    "name": "ml.r5.xlarge",
    "vcpuNum": 4
   },
   {
    "_defaultOrder": 41,
    "_isFastLaunch": false,
    "category": "Memory Optimized",
    "gpuNum": 0,
    "hideHardwareSpecs": false,
    "memoryGiB": 64,
    "name": "ml.r5.2xlarge",
    "vcpuNum": 8
   },
   {
    "_defaultOrder": 42,
    "_isFastLaunch": false,
    "category": "Memory Optimized",
    "gpuNum": 0,
    "hideHardwareSpecs": false,
    "memoryGiB": 128,
    "name": "ml.r5.4xlarge",
    "vcpuNum": 16
   },
   {
    "_defaultOrder": 43,
    "_isFastLaunch": false,
    "category": "Memory Optimized",
    "gpuNum": 0,
    "hideHardwareSpecs": false,
    "memoryGiB": 256,
    "name": "ml.r5.8xlarge",
    "vcpuNum": 32
   },
   {
    "_defaultOrder": 44,
    "_isFastLaunch": false,
    "category": "Memory Optimized",
    "gpuNum": 0,
    "hideHardwareSpecs": false,
    "memoryGiB": 384,
    "name": "ml.r5.12xlarge",
    "vcpuNum": 48
   },
   {
    "_defaultOrder": 45,
    "_isFastLaunch": false,
    "category": "Memory Optimized",
    "gpuNum": 0,
    "hideHardwareSpecs": false,
    "memoryGiB": 512,
    "name": "ml.r5.16xlarge",
    "vcpuNum": 64
   },
   {
    "_defaultOrder": 46,
    "_isFastLaunch": false,
    "category": "Memory Optimized",
    "gpuNum": 0,
    "hideHardwareSpecs": false,
    "memoryGiB": 768,
    "name": "ml.r5.24xlarge",
    "vcpuNum": 96
   },
   {
    "_defaultOrder": 47,
    "_isFastLaunch": false,
    "category": "Accelerated computing",
    "gpuNum": 1,
    "hideHardwareSpecs": false,
    "memoryGiB": 16,
    "name": "ml.g5.xlarge",
    "vcpuNum": 4
   },
   {
    "_defaultOrder": 48,
    "_isFastLaunch": false,
    "category": "Accelerated computing",
    "gpuNum": 1,
    "hideHardwareSpecs": false,
    "memoryGiB": 32,
    "name": "ml.g5.2xlarge",
    "vcpuNum": 8
   },
   {
    "_defaultOrder": 49,
    "_isFastLaunch": false,
    "category": "Accelerated computing",
    "gpuNum": 1,
    "hideHardwareSpecs": false,
    "memoryGiB": 64,
    "name": "ml.g5.4xlarge",
    "vcpuNum": 16
   },
   {
    "_defaultOrder": 50,
    "_isFastLaunch": false,
    "category": "Accelerated computing",
    "gpuNum": 1,
    "hideHardwareSpecs": false,
    "memoryGiB": 128,
    "name": "ml.g5.8xlarge",
    "vcpuNum": 32
   },
   {
    "_defaultOrder": 51,
    "_isFastLaunch": false,
    "category": "Accelerated computing",
    "gpuNum": 1,
    "hideHardwareSpecs": false,
    "memoryGiB": 256,
    "name": "ml.g5.16xlarge",
    "vcpuNum": 64
   },
   {
    "_defaultOrder": 52,
    "_isFastLaunch": false,
    "category": "Accelerated computing",
    "gpuNum": 4,
    "hideHardwareSpecs": false,
    "memoryGiB": 192,
    "name": "ml.g5.12xlarge",
    "vcpuNum": 48
   },
   {
    "_defaultOrder": 53,
    "_isFastLaunch": false,
    "category": "Accelerated computing",
    "gpuNum": 4,
    "hideHardwareSpecs": false,
    "memoryGiB": 384,
    "name": "ml.g5.24xlarge",
    "vcpuNum": 96
   },
   {
    "_defaultOrder": 54,
    "_isFastLaunch": false,
    "category": "Accelerated computing",
    "gpuNum": 8,
    "hideHardwareSpecs": false,
    "memoryGiB": 768,
    "name": "ml.g5.48xlarge",
    "vcpuNum": 192
   },
   {
    "_defaultOrder": 55,
    "_isFastLaunch": false,
    "category": "Accelerated computing",
    "gpuNum": 8,
    "hideHardwareSpecs": false,
    "memoryGiB": 1152,
    "name": "ml.p4d.24xlarge",
    "vcpuNum": 96
   },
   {
    "_defaultOrder": 56,
    "_isFastLaunch": false,
    "category": "Accelerated computing",
    "gpuNum": 8,
    "hideHardwareSpecs": false,
    "memoryGiB": 1152,
    "name": "ml.p4de.24xlarge",
    "vcpuNum": 96
   }
  ],
  "kernelspec": {
   "display_name": "Python 3 (Data Science 3.0)",
   "language": "python",
   "name": "python3__SAGEMAKER_INTERNAL__arn:aws:sagemaker:us-east-1:081325390199:image/sagemaker-data-science-310-v1"
  },
  "language_info": {
   "codemirror_mode": {
    "name": "ipython",
    "version": 3
   },
   "file_extension": ".py",
   "mimetype": "text/x-python",
   "name": "python",
   "nbconvert_exporter": "python",
   "pygments_lexer": "ipython3",
   "version": "3.10.6"
  }
 },
 "nbformat": 4,
 "nbformat_minor": 5
}
