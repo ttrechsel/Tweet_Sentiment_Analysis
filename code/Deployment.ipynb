{
 "cells": [
  {
   "cell_type": "markdown",
   "id": "89ac155f-f156-43bb-b731-55de234111f3",
   "metadata": {},
   "source": [
    "# Model Deployment"
   ]
  },
  {
   "cell_type": "markdown",
   "id": "a5c11fd8-e51d-4d81-b9ab-823896b3768b",
   "metadata": {},
   "source": [
    "Now that we have built our model, we are going to use this notebook for a mock-deployment. In coming weeks we will build a public web app and figure out the full thing, but the basic functionality will be the same. \n",
    "\n",
    "In this notebook we load up our preprocessing function and our trained vectorizer and model, then query the twitter API for recent tweets about a given topic. Next, we pass these new tweets to our model for prediction and analyze the resulting sentiment breakdown graphically."
   ]
  },
  {
   "cell_type": "markdown",
   "id": "12eeb3c2-1bd6-44bf-9630-68501a4d4826",
   "metadata": {},
   "source": [
    "## Imports"
   ]
  },
  {
   "cell_type": "code",
   "execution_count": 2,
   "id": "29cb4c52-e703-4b87-85f5-255a4b95f124",
   "metadata": {
    "tags": []
   },
   "outputs": [],
   "source": [
    "# Data manipulation\n",
    "import pandas as pd\n",
    "import numpy as np\n",
    "\n",
    "# Loading model\n",
    "import joblib\n",
    "\n",
    "# For preprocessing function\n",
    "from nltk.corpus import stopwords\n",
    "from nltk.tokenize import RegexpTokenizer\n",
    "import re\n",
    "\n",
    "# For querying twitter API\n",
    "import requests\n",
    "\n",
    "# Vizzies\n",
    "import matplotlib.pyplot as plt\n",
    "import seaborn as sns\n",
    "%matplotlib inline"
   ]
  },
  {
   "cell_type": "markdown",
   "id": "ff620f8f-4307-4d07-8fe3-356eb1a09481",
   "metadata": {},
   "source": [
    "## Load Model & Vectorizer, Define Variables for Functions"
   ]
  },
  {
   "cell_type": "code",
   "execution_count": 3,
   "id": "ffbfb0ae-4de8-45c3-bbf7-91e02fcc2a11",
   "metadata": {
    "tags": []
   },
   "outputs": [],
   "source": [
    "# Import model\n",
    "model = joblib.load(\"final_model.pkl\")\n",
    "\n",
    "# Import vectorizer\n",
    "vectorizer = joblib.load(\"vectorizer.pkl\")\n",
    "\n",
    "# Define tokenizer for preprocessing\n",
    "tokenizer = RegexpTokenizer(r\"[a-zA-Z]+(?:'[a-z]+)?\")\n",
    "\n",
    "# Define stopwords list for preprocessing\n",
    "stopwords_list = stopwords.words('english')\n",
    "\n",
    "# Define bearer token for Twitter API authentication\n",
    "bearer_token = 'AAAAAAAAAAAAAAAAAAAAABYsrAEAAAAAvxcLhwG%2Fdf3Kc2TUwuAKsTMsykc%3DxmfUn4movLwukCRlbWafezA6xDDftHjaAcfWCtG5B4TUyAV2he'"
   ]
  },
  {
   "cell_type": "markdown",
   "id": "b2276c63-2dfd-437c-949c-623b6be7c40c",
   "metadata": {},
   "source": [
    "## Define Functions"
   ]
  },
  {
   "cell_type": "code",
   "execution_count": 4,
   "id": "89845264-17cd-403a-b9f6-334e1847d1b4",
   "metadata": {
    "tags": []
   },
   "outputs": [],
   "source": [
    "def preprocess_tweet(tweet, tokenizer, stopwords_list):\n",
    "    # Remove @mentions from tweet\n",
    "    tweet = re.sub(r'@\\w+', '', tweet)\n",
    "    \n",
    "    # Clean hashtags by removing the hash symbol and separating words by capital letters\n",
    "    tweet = re.sub(r'#(\\w+)', lambda x: ' '.join(re.findall(r'[A-Z]?[a-z]+', x.group(1))), tweet)\n",
    "    \n",
    "    # Remove URL's\n",
    "    tweet = re.sub(r'https?://\\S+|www\\.\\S+', '', tweet)\n",
    "    \n",
    "    # Standardize case (lowercase the text)\n",
    "    tweet = tweet.lower()\n",
    "    \n",
    "    # Tokenize text using RegEx\n",
    "    tokens = tokenizer.tokenize(tweet)\n",
    "    \n",
    "    # Remove stopwords\n",
    "    filtered_tokens = [word for word in tokens if word not in stopwords_list]\n",
    "    \n",
    "    # Return the preprocessed text\n",
    "    return (\" \".join(filtered_tokens))"
   ]
  },
  {
   "cell_type": "code",
   "execution_count": 5,
   "id": "98d741ad-156d-4d8b-bf1d-7437a7931f99",
   "metadata": {
    "tags": []
   },
   "outputs": [],
   "source": [
    "def get_recent_tweets(query, bearer_token):\n",
    "    url = \"https://api.twitter.com/2/tweets/search/recent\"\n",
    "    \n",
    "    # Filters to exclude retweets, replies, and tweets with links\n",
    "    params = {\n",
    "        'query': f'{query} -is:retweet -is:reply -has:links lang:en',\n",
    "        'max_results': '100', # Can be adjusted, 100 is the max per request with my Basic API subscription plan\n",
    "    }\n",
    "    headers = {\n",
    "        'Authorization': f'Bearer {bearer_token}',\n",
    "        'Content-Type': 'application/json',\n",
    "    }\n",
    "    response = requests.get(url, headers=headers, params=params)\n",
    "    if response.status_code != 200:\n",
    "        raise Exception(f\"Request returned an error: {response.status_code} {response.text}\")\n",
    "    \n",
    "    return pd.DataFrame(response.json().get('data', []))"
   ]
  },
  {
   "cell_type": "code",
   "execution_count": 6,
   "id": "96dfd167-ee47-43d6-bd39-d08fc2e7e86b",
   "metadata": {
    "tags": []
   },
   "outputs": [],
   "source": [
    "def get_tweet_sentiments(topic):\n",
    "    \n",
    "    # Hit API for tweets about topic and put into dataframe\n",
    "    topic_df = get_recent_tweets(topic, bearer_token)\n",
    "    \n",
    "    # Run preprocessing function over tweets\n",
    "    topic_df['tweet'] = topic_df.text.apply(lambda x: preprocess_tweet(x, tokenizer, stopwords_list))\n",
    "    \n",
    "    # Define processed tweets as X and vectorize\n",
    "    topic_X = topic_df.tweet\n",
    "    topic_X_vectorized = vectorizer.transform(topic_X)\n",
    "    \n",
    "    # Generate sentiment predictions with model\n",
    "    topic_sentiment = model.predict(topic_X_vectorized)\n",
    "    \n",
    "    # Return predictions in an array\n",
    "    return topic_sentiment"
   ]
  },
  {
   "cell_type": "code",
   "execution_count": 56,
   "id": "1343d58c-da89-456f-a1b2-bf18ee268aca",
   "metadata": {
    "tags": []
   },
   "outputs": [],
   "source": [
    "def chart_sentiments(array, name):\n",
    "    # Count occurrences of each sentiment\n",
    "    sentiment, counts = np.unique(array, return_counts=True)\n",
    "    \n",
    "    # Define labels and colors\n",
    "    labels = ['Negative', 'Positive']\n",
    "    colors=['#65fffb', '#ff4dd2']\n",
    "    \n",
    "    # Create chart\n",
    "    plt.pie(counts, autopct='%1.1f%%', colors=colors)\n",
    "    \n",
    "    # Create legend and adjust to make room\n",
    "    plt.legend(labels, loc='lower center', bbox_to_anchor=(0.5, -0.1))\n",
    "    \n",
    "    # Save figure with transparent background and show\n",
    "    plt.savefig(f'../images/{name}_chart', transparent=True)\n",
    "    plt.show();"
   ]
  },
  {
   "cell_type": "markdown",
   "id": "0da7f5da-63a7-4463-8584-0b45043a1191",
   "metadata": {},
   "source": [
    "## Giver a Whirl"
   ]
  },
  {
   "cell_type": "markdown",
   "id": "a3a84de1-5eb3-4914-9ee9-07b15daa92d1",
   "metadata": {},
   "source": [
    "### Yonce"
   ]
  },
  {
   "cell_type": "code",
   "execution_count": 8,
   "id": "971f5866-12f2-4c01-b676-74a6de2ea746",
   "metadata": {
    "tags": []
   },
   "outputs": [],
   "source": [
    "beyonce_sentiment = get_tweet_sentiments('Beyonce')"
   ]
  },
  {
   "cell_type": "code",
   "execution_count": 57,
   "id": "936042be-e2a2-433c-8522-935897798222",
   "metadata": {
    "tags": []
   },
   "outputs": [
    {
     "data": {
      "image/png": "[encoded data removed]",
      "text/plain": [
       "<Figure size 640x480 with 1 Axes>"
      ]
     },
     "metadata": {},
     "output_type": "display_data"
    }
   ],
   "source": [
    "chart_sentiments(beyonce_sentiment, 'beyonce')"
   ]
  },
  {
   "cell_type": "markdown",
   "id": "f2cd8a4c-5874-455d-a015-0e6bdf703777",
   "metadata": {},
   "source": [
    "### Ri Ri"
   ]
  },
  {
   "cell_type": "code",
   "execution_count": 65,
   "id": "1ef1a217-20d3-48bc-8706-2b6a80daff9c",
   "metadata": {
    "tags": []
   },
   "outputs": [],
   "source": [
    "rihanna_sentiment = get_tweet_sentiments('Rihanna')"
   ]
  },
  {
   "cell_type": "code",
   "execution_count": 66,
   "id": "150a7d0a-dc13-45a8-a4c8-beaa38b9b7d5",
   "metadata": {
    "tags": []
   },
   "outputs": [
    {
     "data": {
      "image/png": "[encoded data removed]",
      "text/plain": [
       "<Figure size 640x480 with 1 Axes>"
      ]
     },
     "metadata": {},
     "output_type": "display_data"
    }
   ],
   "source": [
    "chart_sentiments(rihanna_sentiment, 'rihanna')"
   ]
  },
  {
   "cell_type": "markdown",
   "id": "22983529-9410-4fef-ba6a-25f2b1f2f567",
   "metadata": {},
   "source": [
    "### Joe Byron"
   ]
  },
  {
   "cell_type": "code",
   "execution_count": 26,
   "id": "f1ca6ec4-fd26-4c81-9eeb-73d8168f7480",
   "metadata": {
    "tags": []
   },
   "outputs": [],
   "source": [
    "biden_sentiment = get_tweet_sentiments('Biden')"
   ]
  },
  {
   "cell_type": "code",
   "execution_count": 59,
   "id": "8b0ca4f6-d2a0-48af-a86c-fe83d53b0704",
   "metadata": {
    "tags": []
   },
   "outputs": [
    {
     "data": {
      "image/png": "[encoded data removed]",
      "text/plain": [
       "<Figure size 640x480 with 1 Axes>"
      ]
     },
     "metadata": {},
     "output_type": "display_data"
    }
   ],
   "source": [
    "chart_sentiments(biden_sentiment, 'biden')"
   ]
  },
  {
   "cell_type": "markdown",
   "id": "9d1523f2-47f2-4863-b95d-2a17ee4ee3d4",
   "metadata": {},
   "source": [
    "### Orange Man"
   ]
  },
  {
   "cell_type": "code",
   "execution_count": 28,
   "id": "a96f623b-9562-4a2b-9709-7547453df056",
   "metadata": {
    "tags": []
   },
   "outputs": [],
   "source": [
    "trump_sentiment = get_tweet_sentiments('Trump')"
   ]
  },
  {
   "cell_type": "code",
   "execution_count": 60,
   "id": "05a9fa4e-c18d-4d15-af76-1629d67f5461",
   "metadata": {
    "tags": []
   },
   "outputs": [
    {
     "data": {
      "image/png": "[encoded data removed]",
      "text/plain": [
       "<Figure size 640x480 with 1 Axes>"
      ]
     },
     "metadata": {},
     "output_type": "display_data"
    }
   ],
   "source": [
    "chart_sentiments(trump_sentiment, 'trump')"
   ]
  },
  {
   "cell_type": "markdown",
   "id": "edf25406-47af-4778-b7db-d562962f9fa8",
   "metadata": {},
   "source": [
    "### Jaffrey Benzos"
   ]
  },
  {
   "cell_type": "code",
   "execution_count": 30,
   "id": "10b1cb9a-3930-41d3-af07-302fc5bcefde",
   "metadata": {
    "tags": []
   },
   "outputs": [],
   "source": [
    "bezos_sentiment = get_tweet_sentiments('Jeff Bezos')"
   ]
  },
  {
   "cell_type": "code",
   "execution_count": 61,
   "id": "143ea0f7-9389-4b9c-abb4-faf1a573bb1e",
   "metadata": {
    "tags": []
   },
   "outputs": [
    {
     "data": {
      "image/png": "[encoded data removed]",
      "text/plain": [
       "<Figure size 640x480 with 1 Axes>"
      ]
     },
     "metadata": {},
     "output_type": "display_data"
    }
   ],
   "source": [
    "chart_sentiments(bezos_sentiment, 'bezos')"
   ]
  },
  {
   "cell_type": "markdown",
   "id": "9ec431b7-2d43-4bea-9847-96fa0a2fb2b1",
   "metadata": {},
   "source": [
    "### Amazon"
   ]
  },
  {
   "cell_type": "code",
   "execution_count": 32,
   "id": "5728f379-0f78-46de-9fc7-0893ce4c9644",
   "metadata": {
    "tags": []
   },
   "outputs": [],
   "source": [
    "amazon_sentiment = get_tweet_sentiments('Amazon')"
   ]
  },
  {
   "cell_type": "code",
   "execution_count": 62,
   "id": "d513cc27-b919-4fbd-bf82-9076107df55c",
   "metadata": {
    "tags": []
   },
   "outputs": [
    {
     "data": {
      "image/png": "[encoded data removed]",
      "text/plain": [
       "<Figure size 640x480 with 1 Axes>"
      ]
     },
     "metadata": {},
     "output_type": "display_data"
    }
   ],
   "source": [
    "chart_sentiments(amazon_sentiment, 'amazon')"
   ]
  },
  {
   "cell_type": "markdown",
   "id": "d33d78a4-a3a3-46f1-9082-66172b69e7cf",
   "metadata": {},
   "source": [
    "### Papa Zuck"
   ]
  },
  {
   "cell_type": "code",
   "execution_count": 34,
   "id": "b0248876-d074-4e9e-9fa6-c6fdb1b36c75",
   "metadata": {
    "tags": []
   },
   "outputs": [],
   "source": [
    "zuckerberg_sentiment = get_tweet_sentiments('Mark Zuckerberg')"
   ]
  },
  {
   "cell_type": "code",
   "execution_count": 63,
   "id": "b1401dcd-3287-4beb-a55d-8f729ee9c867",
   "metadata": {
    "tags": []
   },
   "outputs": [
    {
     "data": {
      "image/png": "[encoded data removed]",
      "text/plain": [
       "<Figure size 640x480 with 1 Axes>"
      ]
     },
     "metadata": {},
     "output_type": "display_data"
    }
   ],
   "source": [
    "chart_sentiments(zuckerberg_sentiment, 'zuckerberg')"
   ]
  },
  {
   "cell_type": "markdown",
   "id": "01facfba-a832-4080-8b37-4b5f6b472c08",
   "metadata": {},
   "source": [
    "### The Facebook"
   ]
  },
  {
   "cell_type": "code",
   "execution_count": 36,
   "id": "a67315db-e794-4108-a41d-44247fc8869c",
   "metadata": {
    "tags": []
   },
   "outputs": [],
   "source": [
    "facebook_sentiment = get_tweet_sentiments('Facebook')"
   ]
  },
  {
   "cell_type": "code",
   "execution_count": 64,
   "id": "adf3cbfe-4329-44a0-983c-e66f8dcc3c4b",
   "metadata": {
    "tags": []
   },
   "outputs": [
    {
     "data": {
      "image/png": "[encoded data removed]",
      "text/plain": [
       "<Figure size 640x480 with 1 Axes>"
      ]
     },
     "metadata": {},
     "output_type": "display_data"
    }
   ],
   "source": [
    "chart_sentiments(facebook_sentiment, 'facebook')"
   ]
  },
  {
   "cell_type": "markdown",
   "id": "3ea6deb0-9817-40de-80fe-1ea4da63b411",
   "metadata": {},
   "source": [
    "### elongated muskrat"
   ]
  },
  {
   "cell_type": "code",
   "execution_count": 67,
   "id": "139e6511-faed-4d1a-9227-fd6d183d9d72",
   "metadata": {
    "tags": []
   },
   "outputs": [],
   "source": [
    "elon_sentiment = get_tweet_sentiments('Elon Musk')"
   ]
  },
  {
   "cell_type": "code",
   "execution_count": 68,
   "id": "0994a3cf-8bc2-473e-aa6f-4dcab88c47b6",
   "metadata": {
    "tags": []
   },
   "outputs": [
    {
     "data": {
      "image/png": "[encoded data removed]",
      "text/plain": [
       "<Figure size 640x480 with 1 Axes>"
      ]
     },
     "metadata": {},
     "output_type": "display_data"
    }
   ],
   "source": [
    "chart_sentiments(elon_sentiment, 'elon')"
   ]
  },
  {
   "cell_type": "markdown",
   "id": "06db518d-8b7c-418d-aebb-63825d1a9a6c",
   "metadata": {},
   "source": [
    "### Tweeter"
   ]
  },
  {
   "cell_type": "code",
   "execution_count": 69,
   "id": "c3d7e0bb-afcc-4fbc-b7b5-1b68c8a9a9be",
   "metadata": {
    "tags": []
   },
   "outputs": [],
   "source": [
    "twitter_sentiment = get_tweet_sentiments('Twitter')"
   ]
  },
  {
   "cell_type": "code",
   "execution_count": 70,
   "id": "68ff5d57-1472-4e57-8c09-ec37aad64714",
   "metadata": {
    "tags": []
   },
   "outputs": [
    {
     "data": {
      "image/png": "[encoded data removed]",
      "text/plain": [
       "<Figure size 640x480 with 1 Axes>"
      ]
     },
     "metadata": {},
     "output_type": "display_data"
    }
   ],
   "source": [
    "chart_sentiments(twitter_sentiment, 'twitter')"
   ]
  },
  {
   "cell_type": "markdown",
   "id": "8d75b865-fe08-4d0a-ab13-3e0588ba5a32",
   "metadata": {},
   "source": [
    "### [Insert Crowd-Pleasing Search Term]"
   ]
  },
  {
   "cell_type": "code",
   "execution_count": 72,
   "id": "2d3c65e6-4e58-4061-ade5-395a78b90cbf",
   "metadata": {
    "tags": []
   },
   "outputs": [],
   "source": [
    "x_sentiment = get_tweet_sentiments('AJR')"
   ]
  },
  {
   "cell_type": "code",
   "execution_count": 73,
   "id": "32ddc376-5910-4125-a330-07c556cddc34",
   "metadata": {
    "tags": []
   },
   "outputs": [
    {
     "data": {
      "image/png": "[encoded data removed]",
      "text/plain": [
       "<Figure size 640x480 with 1 Axes>"
      ]
     },
     "metadata": {},
     "output_type": "display_data"
    }
   ],
   "source": [
    "chart_sentiments(x_sentiment, 'x')"
   ]
  },
  {
   "cell_type": "code",
   "execution_count": null,
   "id": "ecb8e70e-c8c4-4b12-8ec5-766540aa8724",
   "metadata": {},
   "outputs": [],
   "source": []
  }
 ],
 "metadata": {
  "availableInstances": [
   {
    "_defaultOrder": 0,
    "_isFastLaunch": true,
    "category": "General purpose",
    "gpuNum": 0,
    "hideHardwareSpecs": false,
    "memoryGiB": 4,
    "name": "ml.t3.medium",
    "vcpuNum": 2
   },
   {
    "_defaultOrder": 1,
    "_isFastLaunch": false,
    "category": "General purpose",
    "gpuNum": 0,
    "hideHardwareSpecs": false,
    "memoryGiB": 8,
    "name": "ml.t3.large",
    "vcpuNum": 2
   },
   {
    "_defaultOrder": 2,
    "_isFastLaunch": false,
    "category": "General purpose",
    "gpuNum": 0,
    "hideHardwareSpecs": false,
    "memoryGiB": 16,
    "name": "ml.t3.xlarge",
    "vcpuNum": 4
   },
   {
    "_defaultOrder": 3,
    "_isFastLaunch": false,
    "category": "General purpose",
    "gpuNum": 0,
    "hideHardwareSpecs": false,
    "memoryGiB": 32,
    "name": "ml.t3.2xlarge",
    "vcpuNum": 8
   },
   {
    "_defaultOrder": 4,
    "_isFastLaunch": true,
    "category": "General purpose",
    "gpuNum": 0,
    "hideHardwareSpecs": false,
    "memoryGiB": 8,
    "name": "ml.m5.large",
    "vcpuNum": 2
   },
   {
    "_defaultOrder": 5,
    "_isFastLaunch": false,
    "category": "General purpose",
    "gpuNum": 0,
    "hideHardwareSpecs": false,
    "memoryGiB": 16,
    "name": "ml.m5.xlarge",
    "vcpuNum": 4
   },
   {
    "_defaultOrder": 6,
    "_isFastLaunch": false,
    "category": "General purpose",
    "gpuNum": 0,
    "hideHardwareSpecs": false,
    "memoryGiB": 32,
    "name": "ml.m5.2xlarge",
    "vcpuNum": 8
   },
   {
    "_defaultOrder": 7,
    "_isFastLaunch": false,
    "category": "General purpose",
    "gpuNum": 0,
    "hideHardwareSpecs": false,
    "memoryGiB": 64,
    "name": "ml.m5.4xlarge",
    "vcpuNum": 16
   },
   {
    "_defaultOrder": 8,
    "_isFastLaunch": false,
    "category": "General purpose",
    "gpuNum": 0,
    "hideHardwareSpecs": false,
    "memoryGiB": 128,
    "name": "ml.m5.8xlarge",
    "vcpuNum": 32
   },
   {
    "_defaultOrder": 9,
    "_isFastLaunch": false,
    "category": "General purpose",
    "gpuNum": 0,
    "hideHardwareSpecs": false,
    "memoryGiB": 192,
    "name": "ml.m5.12xlarge",
    "vcpuNum": 48
   },
   {
    "_defaultOrder": 10,
    "_isFastLaunch": false,
    "category": "General purpose",
    "gpuNum": 0,
    "hideHardwareSpecs": false,
    "memoryGiB": 256,
    "name": "ml.m5.16xlarge",
    "vcpuNum": 64
   },
   {
    "_defaultOrder": 11,
    "_isFastLaunch": false,
    "category": "General purpose",
    "gpuNum": 0,
    "hideHardwareSpecs": false,
    "memoryGiB": 384,
    "name": "ml.m5.24xlarge",
    "vcpuNum": 96
   },
   {
    "_defaultOrder": 12,
    "_isFastLaunch": false,
    "category": "General purpose",
    "gpuNum": 0,
    "hideHardwareSpecs": false,
    "memoryGiB": 8,
    "name": "ml.m5d.large",
    "vcpuNum": 2
   },
   {
    "_defaultOrder": 13,
    "_isFastLaunch": false,
    "category": "General purpose",
    "gpuNum": 0,
    "hideHardwareSpecs": false,
    "memoryGiB": 16,
    "name": "ml.m5d.xlarge",
    "vcpuNum": 4
   },
   {
    "_defaultOrder": 14,
    "_isFastLaunch": false,
    "category": "General purpose",
    "gpuNum": 0,
    "hideHardwareSpecs": false,
    "memoryGiB": 32,
    "name": "ml.m5d.2xlarge",
    "vcpuNum": 8
   },
   {
    "_defaultOrder": 15,
    "_isFastLaunch": false,
    "category": "General purpose",
    "gpuNum": 0,
    "hideHardwareSpecs": false,
    "memoryGiB": 64,
    "name": "ml.m5d.4xlarge",
    "vcpuNum": 16
   },
   {
    "_defaultOrder": 16,
    "_isFastLaunch": false,
    "category": "General purpose",
    "gpuNum": 0,
    "hideHardwareSpecs": false,
    "memoryGiB": 128,
    "name": "ml.m5d.8xlarge",
    "vcpuNum": 32
   },
   {
    "_defaultOrder": 17,
    "_isFastLaunch": false,
    "category": "General purpose",
    "gpuNum": 0,
    "hideHardwareSpecs": false,
    "memoryGiB": 192,
    "name": "ml.m5d.12xlarge",
    "vcpuNum": 48
   },
   {
    "_defaultOrder": 18,
    "_isFastLaunch": false,
    "category": "General purpose",
    "gpuNum": 0,
    "hideHardwareSpecs": false,
    "memoryGiB": 256,
    "name": "ml.m5d.16xlarge",
    "vcpuNum": 64
   },
   {
    "_defaultOrder": 19,
    "_isFastLaunch": false,
    "category": "General purpose",
    "gpuNum": 0,
    "hideHardwareSpecs": false,
    "memoryGiB": 384,
    "name": "ml.m5d.24xlarge",
    "vcpuNum": 96
   },
   {
    "_defaultOrder": 20,
    "_isFastLaunch": false,
    "category": "General purpose",
    "gpuNum": 0,
    "hideHardwareSpecs": true,
    "memoryGiB": 0,
    "name": "ml.geospatial.interactive",
    "supportedImageNames": [
     "sagemaker-geospatial-v1-0"
    ],
    "vcpuNum": 0
   },
   {
    "_defaultOrder": 21,
    "_isFastLaunch": true,
    "category": "Compute optimized",
    "gpuNum": 0,
    "hideHardwareSpecs": false,
    "memoryGiB": 4,
    "name": "ml.c5.large",
    "vcpuNum": 2
   },
   {
    "_defaultOrder": 22,
    "_isFastLaunch": false,
    "category": "Compute optimized",
    "gpuNum": 0,
    "hideHardwareSpecs": false,
    "memoryGiB": 8,
    "name": "ml.c5.xlarge",
    "vcpuNum": 4
   },
   {
    "_defaultOrder": 23,
    "_isFastLaunch": false,
    "category": "Compute optimized",
    "gpuNum": 0,
    "hideHardwareSpecs": false,
    "memoryGiB": 16,
    "name": "ml.c5.2xlarge",
    "vcpuNum": 8
   },
   {
    "_defaultOrder": 24,
    "_isFastLaunch": false,
    "category": "Compute optimized",
    "gpuNum": 0,
    "hideHardwareSpecs": false,
    "memoryGiB": 32,
    "name": "ml.c5.4xlarge",
    "vcpuNum": 16
   },
   {
    "_defaultOrder": 25,
    "_isFastLaunch": false,
    "category": "Compute optimized",
    "gpuNum": 0,
    "hideHardwareSpecs": false,
    "memoryGiB": 72,
    "name": "ml.c5.9xlarge",
    "vcpuNum": 36
   },
   {
    "_defaultOrder": 26,
    "_isFastLaunch": false,
    "category": "Compute optimized",
    "gpuNum": 0,
    "hideHardwareSpecs": false,
    "memoryGiB": 96,
    "name": "ml.c5.12xlarge",
    "vcpuNum": 48
   },
   {
    "_defaultOrder": 27,
    "_isFastLaunch": false,
    "category": "Compute optimized",
    "gpuNum": 0,
    "hideHardwareSpecs": false,
    "memoryGiB": 144,
    "name": "ml.c5.18xlarge",
    "vcpuNum": 72
   },
   {
    "_defaultOrder": 28,
    "_isFastLaunch": false,
    "category": "Compute optimized",
    "gpuNum": 0,
    "hideHardwareSpecs": false,
    "memoryGiB": 192,
    "name": "ml.c5.24xlarge",
    "vcpuNum": 96
   },
   {
    "_defaultOrder": 29,
    "_isFastLaunch": true,
    "category": "Accelerated computing",
    "gpuNum": 1,
    "hideHardwareSpecs": false,
    "memoryGiB": 16,
    "name": "ml.g4dn.xlarge",
    "vcpuNum": 4
   },
   {
    "_defaultOrder": 30,
    "_isFastLaunch": false,
    "category": "Accelerated computing",
    "gpuNum": 1,
    "hideHardwareSpecs": false,
    "memoryGiB": 32,
    "name": "ml.g4dn.2xlarge",
    "vcpuNum": 8
   },
   {
    "_defaultOrder": 31,
    "_isFastLaunch": false,
    "category": "Accelerated computing",
    "gpuNum": 1,
    "hideHardwareSpecs": false,
    "memoryGiB": 64,
    "name": "ml.g4dn.4xlarge",
    "vcpuNum": 16
   },
   {
    "_defaultOrder": 32,
    "_isFastLaunch": false,
    "category": "Accelerated computing",
    "gpuNum": 1,
    "hideHardwareSpecs": false,
    "memoryGiB": 128,
    "name": "ml.g4dn.8xlarge",
    "vcpuNum": 32
   },
   {
    "_defaultOrder": 33,
    "_isFastLaunch": false,
    "category": "Accelerated computing",
    "gpuNum": 4,
    "hideHardwareSpecs": false,
    "memoryGiB": 192,
    "name": "ml.g4dn.12xlarge",
    "vcpuNum": 48
   },
   {
    "_defaultOrder": 34,
    "_isFastLaunch": false,
    "category": "Accelerated computing",
    "gpuNum": 1,
    "hideHardwareSpecs": false,
    "memoryGiB": 256,
    "name": "ml.g4dn.16xlarge",
    "vcpuNum": 64
   },
   {
    "_defaultOrder": 35,
    "_isFastLaunch": false,
    "category": "Accelerated computing",
    "gpuNum": 1,
    "hideHardwareSpecs": false,
    "memoryGiB": 61,
    "name": "ml.p3.2xlarge",
    "vcpuNum": 8
   },
   {
    "_defaultOrder": 36,
    "_isFastLaunch": false,
    "category": "Accelerated computing",
    "gpuNum": 4,
    "hideHardwareSpecs": false,
    "memoryGiB": 244,
    "name": "ml.p3.8xlarge",
    "vcpuNum": 32
   },
   {
    "_defaultOrder": 37,
    "_isFastLaunch": false,
    "category": "Accelerated computing",
    "gpuNum": 8,
    "hideHardwareSpecs": false,
    "memoryGiB": 488,
    "name": "ml.p3.16xlarge",
    "vcpuNum": 64
   },
   {
    "_defaultOrder": 38,
    "_isFastLaunch": false,
    "category": "Accelerated computing",
    "gpuNum": 8,
    "hideHardwareSpecs": false,
    "memoryGiB": 768,
    "name": "ml.p3dn.24xlarge",
    "vcpuNum": 96
   },
   {
    "_defaultOrder": 39,
    "_isFastLaunch": false,
    "category": "Memory Optimized",
    "gpuNum": 0,
    "hideHardwareSpecs": false,
    "memoryGiB": 16,
    "name": "ml.r5.large",
    "vcpuNum": 2
   },
   {
    "_defaultOrder": 40,
    "_isFastLaunch": false,
    "category": "Memory Optimized",
    "gpuNum": 0,
    "hideHardwareSpecs": false,
    "memoryGiB": 32,
    "name": "ml.r5.xlarge",
    "vcpuNum": 4
   },
   {
    "_defaultOrder": 41,
    "_isFastLaunch": false,
    "category": "Memory Optimized",
    "gpuNum": 0,
    "hideHardwareSpecs": false,
    "memoryGiB": 64,
    "name": "ml.r5.2xlarge",
    "vcpuNum": 8
   },
   {
    "_defaultOrder": 42,
    "_isFastLaunch": false,
    "category": "Memory Optimized",
    "gpuNum": 0,
    "hideHardwareSpecs": false,
    "memoryGiB": 128,
    "name": "ml.r5.4xlarge",
    "vcpuNum": 16
   },
   {
    "_defaultOrder": 43,
    "_isFastLaunch": false,
    "category": "Memory Optimized",
    "gpuNum": 0,
    "hideHardwareSpecs": false,
    "memoryGiB": 256,
    "name": "ml.r5.8xlarge",
    "vcpuNum": 32
   },
   {
    "_defaultOrder": 44,
    "_isFastLaunch": false,
    "category": "Memory Optimized",
    "gpuNum": 0,
    "hideHardwareSpecs": false,
    "memoryGiB": 384,
    "name": "ml.r5.12xlarge",
    "vcpuNum": 48
   },
   {
    "_defaultOrder": 45,
    "_isFastLaunch": false,
    "category": "Memory Optimized",
    "gpuNum": 0,
    "hideHardwareSpecs": false,
    "memoryGiB": 512,
    "name": "ml.r5.16xlarge",
    "vcpuNum": 64
   },
   {
    "_defaultOrder": 46,
    "_isFastLaunch": false,
    "category": "Memory Optimized",
    "gpuNum": 0,
    "hideHardwareSpecs": false,
    "memoryGiB": 768,
    "name": "ml.r5.24xlarge",
    "vcpuNum": 96
   },
   {
    "_defaultOrder": 47,
    "_isFastLaunch": false,
    "category": "Accelerated computing",
    "gpuNum": 1,
    "hideHardwareSpecs": false,
    "memoryGiB": 16,
    "name": "ml.g5.xlarge",
    "vcpuNum": 4
   },
   {
    "_defaultOrder": 48,
    "_isFastLaunch": false,
    "category": "Accelerated computing",
    "gpuNum": 1,
    "hideHardwareSpecs": false,
    "memoryGiB": 32,
    "name": "ml.g5.2xlarge",
    "vcpuNum": 8
   },
   {
    "_defaultOrder": 49,
    "_isFastLaunch": false,
    "category": "Accelerated computing",
    "gpuNum": 1,
    "hideHardwareSpecs": false,
    "memoryGiB": 64,
    "name": "ml.g5.4xlarge",
    "vcpuNum": 16
   },
   {
    "_defaultOrder": 50,
    "_isFastLaunch": false,
    "category": "Accelerated computing",
    "gpuNum": 1,
    "hideHardwareSpecs": false,
    "memoryGiB": 128,
    "name": "ml.g5.8xlarge",
    "vcpuNum": 32
   },
   {
    "_defaultOrder": 51,
    "_isFastLaunch": false,
    "category": "Accelerated computing",
    "gpuNum": 1,
    "hideHardwareSpecs": false,
    "memoryGiB": 256,
    "name": "ml.g5.16xlarge",
    "vcpuNum": 64
   },
   {
    "_defaultOrder": 52,
    "_isFastLaunch": false,
    "category": "Accelerated computing",
    "gpuNum": 4,
    "hideHardwareSpecs": false,
    "memoryGiB": 192,
    "name": "ml.g5.12xlarge",
    "vcpuNum": 48
   },
   {
    "_defaultOrder": 53,
    "_isFastLaunch": false,
    "category": "Accelerated computing",
    "gpuNum": 4,
    "hideHardwareSpecs": false,
    "memoryGiB": 384,
    "name": "ml.g5.24xlarge",
    "vcpuNum": 96
   },
   {
    "_defaultOrder": 54,
    "_isFastLaunch": false,
    "category": "Accelerated computing",
    "gpuNum": 8,
    "hideHardwareSpecs": false,
    "memoryGiB": 768,
    "name": "ml.g5.48xlarge",
    "vcpuNum": 192
   },
   {
    "_defaultOrder": 55,
    "_isFastLaunch": false,
    "category": "Accelerated computing",
    "gpuNum": 8,
    "hideHardwareSpecs": false,
    "memoryGiB": 1152,
    "name": "ml.p4d.24xlarge",
    "vcpuNum": 96
   },
   {
    "_defaultOrder": 56,
    "_isFastLaunch": false,
    "category": "Accelerated computing",
    "gpuNum": 8,
    "hideHardwareSpecs": false,
    "memoryGiB": 1152,
    "name": "ml.p4de.24xlarge",
    "vcpuNum": 96
   }
  ],
  "kernelspec": {
   "display_name": "Python 3 (Data Science 3.0)",
   "language": "python",
   "name": "python3__SAGEMAKER_INTERNAL__arn:aws:sagemaker:us-east-1:081325390199:image/sagemaker-data-science-310-v1"
  },
  "language_info": {
   "codemirror_mode": {
    "name": "ipython",
    "version": 3
   },
   "file_extension": ".py",
   "mimetype": "text/x-python",
   "name": "python",
   "nbconvert_exporter": "python",
   "pygments_lexer": "ipython3",
   "version": "3.10.6"
  }
 },
 "nbformat": 4,
 "nbformat_minor": 5
}
